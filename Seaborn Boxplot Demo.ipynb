{
 "cells": [
  {
   "cell_type": "markdown",
   "id": "807d21cd-d25d-44f8-92e5-de5866c9de0a",
   "metadata": {},
   "source": [
    "# Seaborn Boxplot Demo\n",
    "# Kimberly Fessel\n",
    "# [Seaborn Boxplot](https://www.youtube.com/watch?v=Vo-bfTqEFQk&ab_channel=KimberlyFessel)"
   ]
  },
  {
   "cell_type": "code",
   "execution_count": 1,
   "id": "d43fb541-91f0-4092-95af-acf286316778",
   "metadata": {},
   "outputs": [],
   "source": [
    "# import libraries\n",
    "from matplotlib import pyplot as plt\n",
    "import seaborn as sns"
   ]
  },
  {
   "cell_type": "code",
   "execution_count": 7,
   "id": "c5ccc154-46b6-4296-a046-8698d990428d",
   "metadata": {},
   "outputs": [
    {
     "name": "stdout",
     "output_type": "stream",
     "text": [
      "(392, 9)\n",
      "    mpg  cylinders  displacement  horsepower  weight  acceleration  \\\n",
      "0  18.0          8         307.0       130.0    3504          12.0   \n",
      "1  15.0          8         350.0       165.0    3693          11.5   \n",
      "2  18.0          8         318.0       150.0    3436          11.0   \n",
      "3  16.0          8         304.0       150.0    3433          12.0   \n",
      "4  17.0          8         302.0       140.0    3449          10.5   \n",
      "\n",
      "   model_year origin                       name  \n",
      "0          70    usa  chevrolet chevelle malibu  \n",
      "1          70    usa          buick skylark 320  \n",
      "2          70    usa         plymouth satellite  \n",
      "3          70    usa              amc rebel sst  \n",
      "4          70    usa                ford torino  \n",
      "<class 'pandas.core.frame.DataFrame'>\n",
      "Int64Index: 392 entries, 0 to 397\n",
      "Data columns (total 9 columns):\n",
      " #   Column        Non-Null Count  Dtype  \n",
      "---  ------        --------------  -----  \n",
      " 0   mpg           392 non-null    float64\n",
      " 1   cylinders     392 non-null    int64  \n",
      " 2   displacement  392 non-null    float64\n",
      " 3   horsepower    392 non-null    float64\n",
      " 4   weight        392 non-null    int64  \n",
      " 5   acceleration  392 non-null    float64\n",
      " 6   model_year    392 non-null    int64  \n",
      " 7   origin        392 non-null    object \n",
      " 8   name          392 non-null    object \n",
      "dtypes: float64(4), int64(3), object(2)\n",
      "memory usage: 30.6+ KB\n",
      "None\n"
     ]
    }
   ],
   "source": [
    "# load cars sample dataset\n",
    "cars = sns.load_dataset('mpg').dropna()\n",
    "\n",
    "#\n",
    "print(cars.shape)\n",
    "print(cars.head())\n",
    "print(cars.info())"
   ]
  },
  {
   "cell_type": "code",
   "execution_count": 8,
   "id": "37c7d1ec-78c1-466d-8b56-ebba222b9487",
   "metadata": {},
   "outputs": [],
   "source": [
    "# set seaborn style to whitegrid\n",
    "sns.set_style('whitegrid')"
   ]
  },
  {
   "cell_type": "code",
   "execution_count": 10,
   "id": "a437f012-8151-4247-a982-eb0a4c8047cc",
   "metadata": {},
   "outputs": [
    {
     "data": {
      "text/plain": [
       "4    199\n",
       "8    103\n",
       "6     83\n",
       "3      4\n",
       "5      3\n",
       "Name: cylinders, dtype: int64"
      ]
     },
     "execution_count": 10,
     "metadata": {},
     "output_type": "execute_result"
    }
   ],
   "source": [
    "# filter down to just cars with 4,6,8\n",
    "cars.cylinders.value_counts()"
   ]
  },
  {
   "cell_type": "code",
   "execution_count": 11,
   "id": "9bcf06a7-7769-48da-bde5-e836543eebe0",
   "metadata": {},
   "outputs": [],
   "source": [
    "cars = cars[cars.cylinders.isin([4,6,8])]"
   ]
  },
  {
   "cell_type": "code",
   "execution_count": 12,
   "id": "e915106b-012e-4262-bb05-41c0e8e8dc78",
   "metadata": {},
   "outputs": [
    {
     "name": "stderr",
     "output_type": "stream",
     "text": [
      "C:\\Users\\taylo\\anaconda3\\lib\\site-packages\\seaborn\\_decorators.py:36: FutureWarning: Pass the following variable as a keyword arg: x. From version 0.12, the only valid positional argument will be `data`, and passing other arguments without an explicit keyword will result in an error or misinterpretation.\n",
      "  warnings.warn(\n"
     ]
    },
    {
     "data": {
      "text/plain": [
       "<AxesSubplot:xlabel='mpg'>"
      ]
     },
     "execution_count": 12,
     "metadata": {},
     "output_type": "execute_result"
    },
    {
     "data": {
      "image/png": "[encoded data removed]",
      "text/plain": [
       "<Figure size 432x288 with 1 Axes>"
      ]
     },
     "metadata": {},
     "output_type": "display_data"
    }
   ],
   "source": [
    "sns.boxplot(cars.mpg)"
   ]
  },
  {
   "cell_type": "code",
   "execution_count": 13,
   "id": "8b85aac5-4206-4def-becb-f417dd488bb6",
   "metadata": {},
   "outputs": [
    {
     "data": {
      "text/plain": [
       "count    385.000000\n",
       "mean      23.445455\n",
       "std        7.836911\n",
       "min        9.000000\n",
       "25%       17.000000\n",
       "50%       23.000000\n",
       "75%       29.000000\n",
       "max       46.600000\n",
       "Name: mpg, dtype: float64"
      ]
     },
     "execution_count": 13,
     "metadata": {},
     "output_type": "execute_result"
    }
   ],
   "source": [
    "# view summary statistics\n",
    "cars.mpg.describe()"
   ]
  },
  {
   "cell_type": "code",
   "execution_count": 14,
   "id": "c1cfd495-86bb-41bb-a8b5-2bba27ebeb08",
   "metadata": {},
   "outputs": [
    {
     "data": {
      "text/plain": [
       "<AxesSubplot:xlabel='origin', ylabel='mpg'>"
      ]
     },
     "execution_count": 14,
     "metadata": {},
     "output_type": "execute_result"
    },
    {
     "data": {
      "image/png": "[encoded data removed]",
      "text/plain": [
       "<Figure size 432x288 with 1 Axes>"
      ]
     },
     "metadata": {},
     "output_type": "display_data"
    }
   ],
   "source": [
    "sns.boxplot(x=cars.origin, y=cars.mpg)"
   ]
  },
  {
   "cell_type": "code",
   "execution_count": 16,
   "id": "043103e9-cc99-4ab8-8233-6642a46d57a0",
   "metadata": {},
   "outputs": [
    {
     "data": {
      "text/plain": [
       "<AxesSubplot:xlabel='origin', ylabel='mpg'>"
      ]
     },
     "execution_count": 16,
     "metadata": {},
     "output_type": "execute_result"
    },
    {
     "data": {
      "image/png": "[encoded data removed]",
      "text/plain": [
       "<Figure size 432x288 with 1 Axes>"
      ]
     },
     "metadata": {},
     "output_type": "display_data"
    }
   ],
   "source": [
    "# alternate syntax implementation\n",
    "sns.boxplot(x='origin', y='mpg', data=cars)"
   ]
  },
  {
   "cell_type": "markdown",
   "id": "300b9b0d-2357-4302-9e1b-7210134e27cd",
   "metadata": {},
   "source": [
    "# Hue argument"
   ]
  },
  {
   "cell_type": "code",
   "execution_count": 17,
   "id": "fb51d0f9-8969-40dc-941a-147bbd722fd4",
   "metadata": {},
   "outputs": [
    {
     "data": {
      "text/plain": [
       "<AxesSubplot:xlabel='origin', ylabel='mpg'>"
      ]
     },
     "execution_count": 17,
     "metadata": {},
     "output_type": "execute_result"
    },
    {
     "data": {
      "image/png": "[encoded data removed]",
      "text/plain": [
       "<Figure size 432x288 with 1 Axes>"
      ]
     },
     "metadata": {},
     "output_type": "display_data"
    }
   ],
   "source": [
    "#\n",
    "sns.boxplot(x='origin', y='mpg', hue='cylinders', data=cars)"
   ]
  },
  {
   "cell_type": "markdown",
   "id": "d91bfc48-e03c-4d8b-a2c0-50fb7f6a02d7",
   "metadata": {},
   "source": []
  },
  {
   "cell_type": "markdown",
   "id": "0fc1764c-7554-4308-9d4c-72bfc6e23c1e",
   "metadata": {},
   "source": [
    "# Create own categories on the fly"
   ]
  },
  {
   "cell_type": "code",
   "execution_count": 18,
   "id": "552ad92c-a292-438d-8ff5-4a857a09061d",
   "metadata": {},
   "outputs": [
    {
     "data": {
      "text/plain": [
       "count    385.000000\n",
       "mean      75.961039\n",
       "std        3.692058\n",
       "min       70.000000\n",
       "25%       73.000000\n",
       "50%       76.000000\n",
       "75%       79.000000\n",
       "max       82.000000\n",
       "Name: model_year, dtype: float64"
      ]
     },
     "execution_count": 18,
     "metadata": {},
     "output_type": "execute_result"
    }
   ],
   "source": [
    "#\n",
    "cars.model_year.describe()"
   ]
  },
  {
   "cell_type": "code",
   "execution_count": 21,
   "id": "a1124280-1862-42ec-b7fa-8a19f0a36760",
   "metadata": {},
   "outputs": [],
   "source": [
    "# create new cat variable based on whether vehicle was produced after 1976\n",
    "cars['newer_model'] = cars.model_year > 76"
   ]
  },
  {
   "cell_type": "code",
   "execution_count": 20,
   "id": "3f3a3d20-b288-4ddb-b334-b865479ce0ab",
   "metadata": {},
   "outputs": [
    {
     "data": {
      "text/plain": [
       "<AxesSubplot:xlabel='origin', ylabel='mpg'>"
      ]
     },
     "execution_count": 20,
     "metadata": {},
     "output_type": "execute_result"
    },
    {
     "data": {
      "image/png": "[encoded data removed]",
      "text/plain": [
       "<Figure size 432x288 with 1 Axes>"
      ]
     },
     "metadata": {},
     "output_type": "display_data"
    }
   ],
   "source": [
    "sns.boxplot(x='origin', y='mpg', hue='newer_model', data=cars)"
   ]
  },
  {
   "cell_type": "markdown",
   "id": "eddd06e1-ecdd-4a4e-b359-3422cadc5cb0",
   "metadata": {},
   "source": [
    "# Boxplot Styling Options"
   ]
  },
  {
   "cell_type": "markdown",
   "id": "7f4517c3-7ca6-47a4-b821-9e9d02e08ac3",
   "metadata": {},
   "source": [
    "#### Order"
   ]
  },
  {
   "cell_type": "code",
   "execution_count": 22,
   "id": "29391411-0e8e-4f91-b6a0-a028d700644e",
   "metadata": {},
   "outputs": [
    {
     "data": {
      "text/plain": [
       "<AxesSubplot:xlabel='mpg', ylabel='origin'>"
      ]
     },
     "execution_count": 22,
     "metadata": {},
     "output_type": "execute_result"
    },
    {
     "data": {
      "image/png": "[encoded data removed]",
      "text/plain": [
       "<Figure size 432x288 with 1 Axes>"
      ]
     },
     "metadata": {},
     "output_type": "display_data"
    }
   ],
   "source": [
    "sns.boxplot(x='mpg', y='origin',\n",
    "           data=cars,\n",
    "           order=['japan', 'europe', 'usa'])"
   ]
  },
  {
   "cell_type": "code",
   "execution_count": 23,
   "id": "855b8043-a578-485c-a494-f375939c0fdc",
   "metadata": {},
   "outputs": [
    {
     "data": {
      "text/plain": [
       "<AxesSubplot:xlabel='mpg', ylabel='origin'>"
      ]
     },
     "execution_count": 23,
     "metadata": {},
     "output_type": "execute_result"
    },
    {
     "data": {
      "image/png": "[encoded data removed]",
      "text/plain": [
       "<Figure size 432x288 with 1 Axes>"
      ]
     },
     "metadata": {},
     "output_type": "display_data"
    }
   ],
   "source": [
    "sns.boxplot(x='mpg', y='origin', hue='newer_model',\n",
    "           data=cars,\n",
    "           order=['japan', 'europe', 'usa'],\n",
    "           hue_order=[True,False])"
   ]
  },
  {
   "cell_type": "markdown",
   "id": "dcd98a8a-28a3-48e0-95ca-74af06f9c6fc",
   "metadata": {},
   "source": [
    "#### Colors"
   ]
  },
  {
   "cell_type": "code",
   "execution_count": null,
   "id": "dcd5197e-2b99-4479-9b79-0b699b1aa6c7",
   "metadata": {},
   "outputs": [],
   "source": []
  }
 ],
 "metadata": {
  "kernelspec": {
   "display_name": "Python 3",
   "language": "python",
   "name": "python3"
  },
  "language_info": {
   "codemirror_mode": {
    "name": "ipython",
    "version": 3
   },
   "file_extension": ".py",
   "mimetype": "text/x-python",
   "name": "python",
   "nbconvert_exporter": "python",
   "pygments_lexer": "ipython3",
   "version": "3.8.8"
  }
 },
 "nbformat": 4,
 "nbformat_minor": 5
}
