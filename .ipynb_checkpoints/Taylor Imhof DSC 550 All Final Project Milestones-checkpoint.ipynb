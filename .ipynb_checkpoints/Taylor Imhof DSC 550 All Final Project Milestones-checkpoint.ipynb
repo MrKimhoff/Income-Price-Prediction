{
 "cells": [
  {
   "cell_type": "markdown",
   "id": "0f51ca4b-c034-4650-8aa8-3a1d8e9381a9",
   "metadata": {},
   "source": [
    "# Taylor Imhof\n",
    "# Bellevue University | DSC 550\n",
    "# Final Project Milestone #3\n",
    "# 2/25/2022"
   ]
  },
  {
   "cell_type": "markdown",
   "id": "44b3e21b-a461-4dee-a170-ae93e5445f18",
   "metadata": {},
   "source": [
    "## Work For Milestone #1"
   ]
  },
  {
   "cell_type": "markdown",
   "id": "e897d164-80ab-4490-a0f8-2bed4f0e4dda",
   "metadata": {},
   "source": [
    "## Load Required Libraries"
   ]
  },
  {
   "cell_type": "code",
   "execution_count": 1,
   "id": "55f3c5c6-a0d2-49e2-8cac-c4f3a0c4b833",
   "metadata": {},
   "outputs": [],
   "source": [
    "# import required libraries\n",
    "import pandas as pd\n",
    "import numpy as np\n",
    "import matplotlib.pyplot as plt\n",
    "import seaborn as sns\n",
    "import datetime\n",
    "\n",
    "# supress notebook warnings\n",
    "import warnings\n",
    "warnings.filterwarnings('ignore')"
   ]
  },
  {
   "cell_type": "markdown",
   "id": "00bce5a2-271e-49ab-aa85-84cc8373c474",
   "metadata": {},
   "source": [
    "## Read CSV Data Into Pandas Dataframe"
   ]
  },
  {
   "cell_type": "code",
   "execution_count": 2,
   "id": "40f624e2-8e58-4829-ae86-3b522b691aee",
   "metadata": {},
   "outputs": [
    {
     "data": {
      "text/html": [
       "<div>\n",
       "<style scoped>\n",
       "    .dataframe tbody tr th:only-of-type {\n",
       "        vertical-align: middle;\n",
       "    }\n",
       "\n",
       "    .dataframe tbody tr th {\n",
       "        vertical-align: top;\n",
       "    }\n",
       "\n",
       "    .dataframe thead th {\n",
       "        text-align: right;\n",
       "    }\n",
       "</style>\n",
       "<table border=\"1\" class=\"dataframe\">\n",
       "  <thead>\n",
       "    <tr style=\"text-align: right;\">\n",
       "      <th></th>\n",
       "      <th>ID</th>\n",
       "      <th>Year_Birth</th>\n",
       "      <th>Education</th>\n",
       "      <th>Marital_Status</th>\n",
       "      <th>Income</th>\n",
       "      <th>Kidhome</th>\n",
       "      <th>Teenhome</th>\n",
       "      <th>Dt_Customer</th>\n",
       "      <th>Recency</th>\n",
       "      <th>MntWines</th>\n",
       "      <th>...</th>\n",
       "      <th>NumStorePurchases</th>\n",
       "      <th>NumWebVisitsMonth</th>\n",
       "      <th>AcceptedCmp3</th>\n",
       "      <th>AcceptedCmp4</th>\n",
       "      <th>AcceptedCmp5</th>\n",
       "      <th>AcceptedCmp1</th>\n",
       "      <th>AcceptedCmp2</th>\n",
       "      <th>Response</th>\n",
       "      <th>Complain</th>\n",
       "      <th>Country</th>\n",
       "    </tr>\n",
       "  </thead>\n",
       "  <tbody>\n",
       "    <tr>\n",
       "      <th>0</th>\n",
       "      <td>1826</td>\n",
       "      <td>1970</td>\n",
       "      <td>Graduation</td>\n",
       "      <td>Divorced</td>\n",
       "      <td>$84,835.00</td>\n",
       "      <td>0</td>\n",
       "      <td>0</td>\n",
       "      <td>6/16/14</td>\n",
       "      <td>0</td>\n",
       "      <td>189</td>\n",
       "      <td>...</td>\n",
       "      <td>6</td>\n",
       "      <td>1</td>\n",
       "      <td>0</td>\n",
       "      <td>0</td>\n",
       "      <td>0</td>\n",
       "      <td>0</td>\n",
       "      <td>0</td>\n",
       "      <td>1</td>\n",
       "      <td>0</td>\n",
       "      <td>SP</td>\n",
       "    </tr>\n",
       "    <tr>\n",
       "      <th>1</th>\n",
       "      <td>1</td>\n",
       "      <td>1961</td>\n",
       "      <td>Graduation</td>\n",
       "      <td>Single</td>\n",
       "      <td>$57,091.00</td>\n",
       "      <td>0</td>\n",
       "      <td>0</td>\n",
       "      <td>6/15/14</td>\n",
       "      <td>0</td>\n",
       "      <td>464</td>\n",
       "      <td>...</td>\n",
       "      <td>7</td>\n",
       "      <td>5</td>\n",
       "      <td>0</td>\n",
       "      <td>0</td>\n",
       "      <td>0</td>\n",
       "      <td>0</td>\n",
       "      <td>1</td>\n",
       "      <td>1</td>\n",
       "      <td>0</td>\n",
       "      <td>CA</td>\n",
       "    </tr>\n",
       "    <tr>\n",
       "      <th>2</th>\n",
       "      <td>10476</td>\n",
       "      <td>1958</td>\n",
       "      <td>Graduation</td>\n",
       "      <td>Married</td>\n",
       "      <td>$67,267.00</td>\n",
       "      <td>0</td>\n",
       "      <td>1</td>\n",
       "      <td>5/13/14</td>\n",
       "      <td>0</td>\n",
       "      <td>134</td>\n",
       "      <td>...</td>\n",
       "      <td>5</td>\n",
       "      <td>2</td>\n",
       "      <td>0</td>\n",
       "      <td>0</td>\n",
       "      <td>0</td>\n",
       "      <td>0</td>\n",
       "      <td>0</td>\n",
       "      <td>0</td>\n",
       "      <td>0</td>\n",
       "      <td>US</td>\n",
       "    </tr>\n",
       "    <tr>\n",
       "      <th>3</th>\n",
       "      <td>1386</td>\n",
       "      <td>1967</td>\n",
       "      <td>Graduation</td>\n",
       "      <td>Together</td>\n",
       "      <td>$32,474.00</td>\n",
       "      <td>1</td>\n",
       "      <td>1</td>\n",
       "      <td>5/11/14</td>\n",
       "      <td>0</td>\n",
       "      <td>10</td>\n",
       "      <td>...</td>\n",
       "      <td>2</td>\n",
       "      <td>7</td>\n",
       "      <td>0</td>\n",
       "      <td>0</td>\n",
       "      <td>0</td>\n",
       "      <td>0</td>\n",
       "      <td>0</td>\n",
       "      <td>0</td>\n",
       "      <td>0</td>\n",
       "      <td>AUS</td>\n",
       "    </tr>\n",
       "    <tr>\n",
       "      <th>4</th>\n",
       "      <td>5371</td>\n",
       "      <td>1989</td>\n",
       "      <td>Graduation</td>\n",
       "      <td>Single</td>\n",
       "      <td>$21,474.00</td>\n",
       "      <td>1</td>\n",
       "      <td>0</td>\n",
       "      <td>4/8/14</td>\n",
       "      <td>0</td>\n",
       "      <td>6</td>\n",
       "      <td>...</td>\n",
       "      <td>2</td>\n",
       "      <td>7</td>\n",
       "      <td>1</td>\n",
       "      <td>0</td>\n",
       "      <td>0</td>\n",
       "      <td>0</td>\n",
       "      <td>0</td>\n",
       "      <td>1</td>\n",
       "      <td>0</td>\n",
       "      <td>SP</td>\n",
       "    </tr>\n",
       "  </tbody>\n",
       "</table>\n",
       "<p>5 rows × 28 columns</p>\n",
       "</div>"
      ],
      "text/plain": [
       "      ID  Year_Birth   Education Marital_Status      Income   Kidhome  \\\n",
       "0   1826        1970  Graduation       Divorced  $84,835.00         0   \n",
       "1      1        1961  Graduation         Single  $57,091.00         0   \n",
       "2  10476        1958  Graduation        Married  $67,267.00         0   \n",
       "3   1386        1967  Graduation       Together  $32,474.00         1   \n",
       "4   5371        1989  Graduation         Single  $21,474.00         1   \n",
       "\n",
       "   Teenhome Dt_Customer  Recency  MntWines  ...  NumStorePurchases  \\\n",
       "0         0     6/16/14        0       189  ...                  6   \n",
       "1         0     6/15/14        0       464  ...                  7   \n",
       "2         1     5/13/14        0       134  ...                  5   \n",
       "3         1     5/11/14        0        10  ...                  2   \n",
       "4         0      4/8/14        0         6  ...                  2   \n",
       "\n",
       "   NumWebVisitsMonth  AcceptedCmp3  AcceptedCmp4  AcceptedCmp5  AcceptedCmp1  \\\n",
       "0                  1             0             0             0             0   \n",
       "1                  5             0             0             0             0   \n",
       "2                  2             0             0             0             0   \n",
       "3                  7             0             0             0             0   \n",
       "4                  7             1             0             0             0   \n",
       "\n",
       "   AcceptedCmp2  Response  Complain  Country  \n",
       "0             0         1         0       SP  \n",
       "1             1         1         0       CA  \n",
       "2             0         0         0       US  \n",
       "3             0         0         0      AUS  \n",
       "4             0         1         0       SP  \n",
       "\n",
       "[5 rows x 28 columns]"
      ]
     },
     "execution_count": 2,
     "metadata": {},
     "output_type": "execute_result"
    }
   ],
   "source": [
    "# read in data\n",
    "data = pd.read_csv('data/marketing_data.csv')\n",
    "data.head()"
   ]
  },
  {
   "cell_type": "code",
   "execution_count": 3,
   "id": "6fa48773-6f9c-4401-99f2-64f3fb1e41b1",
   "metadata": {},
   "outputs": [
    {
     "data": {
      "text/plain": [
       "(2240, 28)"
      ]
     },
     "execution_count": 3,
     "metadata": {},
     "output_type": "execute_result"
    }
   ],
   "source": [
    "# check dimensions of data set\n",
    "data.shape"
   ]
  },
  {
   "cell_type": "code",
   "execution_count": 4,
   "id": "8c2108e4-73bb-4df9-b2ad-e8804e1fee18",
   "metadata": {},
   "outputs": [
    {
     "name": "stdout",
     "output_type": "stream",
     "text": [
      "<class 'pandas.core.frame.DataFrame'>\n",
      "RangeIndex: 2240 entries, 0 to 2239\n",
      "Data columns (total 28 columns):\n",
      " #   Column               Non-Null Count  Dtype \n",
      "---  ------               --------------  ----- \n",
      " 0   ID                   2240 non-null   int64 \n",
      " 1   Year_Birth           2240 non-null   int64 \n",
      " 2   Education            2240 non-null   object\n",
      " 3   Marital_Status       2240 non-null   object\n",
      " 4    Income              2216 non-null   object\n",
      " 5   Kidhome              2240 non-null   int64 \n",
      " 6   Teenhome             2240 non-null   int64 \n",
      " 7   Dt_Customer          2240 non-null   object\n",
      " 8   Recency              2240 non-null   int64 \n",
      " 9   MntWines             2240 non-null   int64 \n",
      " 10  MntFruits            2240 non-null   int64 \n",
      " 11  MntMeatProducts      2240 non-null   int64 \n",
      " 12  MntFishProducts      2240 non-null   int64 \n",
      " 13  MntSweetProducts     2240 non-null   int64 \n",
      " 14  MntGoldProds         2240 non-null   int64 \n",
      " 15  NumDealsPurchases    2240 non-null   int64 \n",
      " 16  NumWebPurchases      2240 non-null   int64 \n",
      " 17  NumCatalogPurchases  2240 non-null   int64 \n",
      " 18  NumStorePurchases    2240 non-null   int64 \n",
      " 19  NumWebVisitsMonth    2240 non-null   int64 \n",
      " 20  AcceptedCmp3         2240 non-null   int64 \n",
      " 21  AcceptedCmp4         2240 non-null   int64 \n",
      " 22  AcceptedCmp5         2240 non-null   int64 \n",
      " 23  AcceptedCmp1         2240 non-null   int64 \n",
      " 24  AcceptedCmp2         2240 non-null   int64 \n",
      " 25  Response             2240 non-null   int64 \n",
      " 26  Complain             2240 non-null   int64 \n",
      " 27  Country              2240 non-null   object\n",
      "dtypes: int64(23), object(5)\n",
      "memory usage: 490.1+ KB\n"
     ]
    }
   ],
   "source": [
    "# display data types\n",
    "data.info()"
   ]
  },
  {
   "cell_type": "markdown",
   "id": "3ddc9a2b-ee19-4395-ad1f-7172b6f337df",
   "metadata": {},
   "source": [
    "This dataset contains 2240 records with 28 columns in total. After reviewing the Dtype column produced from info(), I noticed that income was encoded as a string and had some additional whitespace in the column name."
   ]
  },
  {
   "cell_type": "markdown",
   "id": "250f0bd4-1ab7-4c75-a415-46517dd86ac6",
   "metadata": {},
   "source": [
    "## Cleaning Income Column"
   ]
  },
  {
   "cell_type": "code",
   "execution_count": 5,
   "id": "c5334b67-e739-43ab-b81d-0a224b0c9d8b",
   "metadata": {},
   "outputs": [
    {
     "data": {
      "text/plain": [
       "Index(['ID', 'Year_Birth', 'Education', 'Marital_Status', 'Income', 'Kidhome',\n",
       "       'Teenhome', 'Dt_Customer', 'Recency', 'MntWines', 'MntFruits',\n",
       "       'MntMeatProducts', 'MntFishProducts', 'MntSweetProducts',\n",
       "       'MntGoldProds', 'NumDealsPurchases', 'NumWebPurchases',\n",
       "       'NumCatalogPurchases', 'NumStorePurchases', 'NumWebVisitsMonth',\n",
       "       'AcceptedCmp3', 'AcceptedCmp4', 'AcceptedCmp5', 'AcceptedCmp1',\n",
       "       'AcceptedCmp2', 'Response', 'Complain', 'Country'],\n",
       "      dtype='object')"
      ]
     },
     "execution_count": 5,
     "metadata": {},
     "output_type": "execute_result"
    }
   ],
   "source": [
    "# rename income column to remove extra whitespace\n",
    "data.rename({\" Income \": \"Income\"}, axis=1, inplace=True)\n",
    "\n",
    "# to check that changes were put into effect\n",
    "data.columns "
   ]
  },
  {
   "cell_type": "code",
   "execution_count": 6,
   "id": "9c3cfb0e-1de9-4eaf-8e07-e536a26d5e71",
   "metadata": {},
   "outputs": [],
   "source": [
    "## utility function to clean string formatted currency to float by removing commas and dollar signs\n",
    "def clean_currency(dollars):\n",
    "    \"\"\"\n",
    "    args: string containing dollar sign and comma characters\n",
    "    returns: \n",
    "    \"\"\"\n",
    "    if isinstance(dollars, str):\n",
    "        return(dollars.replace('$', '').replace(',', ''))\n",
    "    return(dollars)"
   ]
  },
  {
   "cell_type": "code",
   "execution_count": 7,
   "id": "26607ba3-8837-4d92-8c18-abd8f3352b9f",
   "metadata": {},
   "outputs": [
    {
     "data": {
      "text/plain": [
       "dtype('float64')"
      ]
     },
     "execution_count": 7,
     "metadata": {},
     "output_type": "execute_result"
    }
   ],
   "source": [
    "# create copy\n",
    "clean_income = data.copy()\n",
    "\n",
    "# apply clean currency utilty function to income column\n",
    "clean_income['Income'] = clean_income['Income'].apply(clean_currency).astype(float)\n",
    "\n",
    "# check dtype to ensure changes were put into effect\n",
    "clean_income['Income'].dtype"
   ]
  },
  {
   "cell_type": "markdown",
   "id": "aa0b5c51-5389-4021-b79a-1f829817fbce",
   "metadata": {},
   "source": [
    "## Graphical Analysis Of `Income` Column"
   ]
  },
  {
   "cell_type": "code",
   "execution_count": 8,
   "id": "b933b185-c019-4545-ade6-a06a66d3c896",
   "metadata": {},
   "outputs": [
    {
     "data": {
      "image/png": "[encoded data removed]",
      "text/plain": [
       "<Figure size 432x288 with 1 Axes>"
      ]
     },
     "metadata": {
      "needs_background": "light"
     },
     "output_type": "display_data"
    }
   ],
   "source": [
    "# display histogram of income distribution\n",
    "sns.histplot(data=clean_income['Income'])\n",
    "plt.title('Histogram of Income (w/outliers)')\n",
    "plt.show()"
   ]
  },
  {
   "cell_type": "markdown",
   "id": "37a4e253-7a92-4a77-a5f1-764ea184e5a1",
   "metadata": {},
   "source": [
    "There looks like there are a few outliers in the income column. In order to get a better look at potential outliers, I decided to graph a boxplot of the income column."
   ]
  },
  {
   "cell_type": "code",
   "execution_count": 9,
   "id": "5f21d5a2-95f2-441e-8c06-6e28047dcf34",
   "metadata": {},
   "outputs": [
    {
     "data": {
      "text/plain": [
       "Text(0.5, 1.0, 'Boxplot of Income Column')"
      ]
     },
     "execution_count": 9,
     "metadata": {},
     "output_type": "execute_result"
    },
    {
     "data": {
      "image/png": "[encoded data removed]",
      "text/plain": [
       "<Figure size 432x288 with 1 Axes>"
      ]
     },
     "metadata": {
      "needs_background": "light"
     },
     "output_type": "display_data"
    }
   ],
   "source": [
    "# create boxplot of income column\n",
    "sns.boxplot(data=clean_income['Income'], color='purple')\n",
    "plt.title('Boxplot of Income Column')"
   ]
  },
  {
   "cell_type": "markdown",
   "id": "2f920cfe-e2d7-427c-bb20-2b92758098c3",
   "metadata": {},
   "source": [
    "It looks like there is one very anomalous outlier at > 600000, so I decided to filter down the rows to customers with income below 200000."
   ]
  },
  {
   "cell_type": "code",
   "execution_count": 10,
   "id": "405e9575-a8c6-4dac-860c-8d70b43d7e4a",
   "metadata": {},
   "outputs": [
    {
     "data": {
      "image/png": "[encoded data removed]",
      "text/plain": [
       "<Figure size 432x288 with 1 Axes>"
      ]
     },
     "metadata": {
      "needs_background": "light"
     },
     "output_type": "display_data"
    }
   ],
   "source": [
    "# create copy\n",
    "filter_income = clean_income.copy()\n",
    "\n",
    "# filter income to values below 200000\n",
    "filter_income = filter_income[filter_income['Income'] < 200000]\n",
    "\n",
    "# display new boxplot to see if more filtering might be necessary\n",
    "sns.boxplot(data=filter_income['Income'], color='gold')\n",
    "plt.title('Boxplot of Income Column')\n",
    "plt.show()"
   ]
  },
  {
   "cell_type": "markdown",
   "id": "eb9640f7-2b0f-443d-bb57-ecce8fba341f",
   "metadata": {},
   "source": [
    "After reviewing this boxplot it looks like while there are still a few outliers, I felt that they were close enough to the \"norm\" to be acceptable observation values."
   ]
  },
  {
   "cell_type": "code",
   "execution_count": 11,
   "id": "63cb7647-d204-4d6c-ad21-aeab8861073b",
   "metadata": {},
   "outputs": [
    {
     "data": {
      "image/png": "[encoded data removed]",
      "text/plain": [
       "<Figure size 432x288 with 1 Axes>"
      ]
     },
     "metadata": {
      "needs_background": "light"
     },
     "output_type": "display_data"
    }
   ],
   "source": [
    "# create histogram of cleaned and filtered income column\n",
    "sns.histplot(data=filter_income['Income'], kde=True)\n",
    "plt.title('Histogram of Yearly Income ($)')\n",
    "plt.show()"
   ]
  },
  {
   "cell_type": "markdown",
   "id": "f16dbf8c-8518-4dc4-b6c4-813adfcfbd30",
   "metadata": {},
   "source": [
    "## Graphical Analysis Of `Year_Birth` Column"
   ]
  },
  {
   "cell_type": "markdown",
   "id": "5e676f4b-fb78-482f-b1a5-706dfd0d1448",
   "metadata": {},
   "source": [
    "Another column of data that I wanted to get a better feel for how it was distributed was the column noting each customer's birth year."
   ]
  },
  {
   "cell_type": "code",
   "execution_count": 12,
   "id": "b8878590-fb6e-438a-af69-8aa072718759",
   "metadata": {},
   "outputs": [
    {
     "data": {
      "text/plain": [
       "(2215, 28)"
      ]
     },
     "execution_count": 12,
     "metadata": {},
     "output_type": "execute_result"
    }
   ],
   "source": [
    "filter_income.shape"
   ]
  },
  {
   "cell_type": "code",
   "execution_count": 13,
   "id": "4b878ef2-ec09-4c4a-a209-cdb762909d20",
   "metadata": {},
   "outputs": [
    {
     "data": {
      "image/png": "[encoded data removed]",
      "text/plain": [
       "<Figure size 432x288 with 1 Axes>"
      ]
     },
     "metadata": {
      "needs_background": "light"
     },
     "output_type": "display_data"
    }
   ],
   "source": [
    "# identify potential outliers with boxplot\n",
    "sns.boxplot(data=filter_income['Year_Birth'], color='red')\n",
    "plt.title('Histogram of Year_Birth Column')\n",
    "plt.show()"
   ]
  },
  {
   "cell_type": "markdown",
   "id": "e26bbc10-20a6-406f-b0fd-1d8d462e0147",
   "metadata": {},
   "source": [
    "It looks like there are a few outliers, so I decided to filter the data for customer's who were born after 1920."
   ]
  },
  {
   "cell_type": "code",
   "execution_count": 14,
   "id": "fc457f8f-f372-445b-abf2-9adc114ccb99",
   "metadata": {},
   "outputs": [
    {
     "data": {
      "text/plain": [
       "(2212, 28)"
      ]
     },
     "execution_count": 14,
     "metadata": {},
     "output_type": "execute_result"
    }
   ],
   "source": [
    "# create copy\n",
    "filter_birth = filter_income.copy()\n",
    "\n",
    "# filter customers born after 1920\n",
    "filter_birth = filter_birth[filter_birth['Year_Birth'] > 1920]\n",
    "filter_birth.shape"
   ]
  },
  {
   "cell_type": "markdown",
   "id": "1ad8da9b-1c17-4418-8757-57df78b9e2b1",
   "metadata": {},
   "source": [
    "After filtering by birth year, only three observations were lost."
   ]
  },
  {
   "cell_type": "code",
   "execution_count": 15,
   "id": "d65a833e-91e7-46fd-8e30-37af889b1888",
   "metadata": {},
   "outputs": [
    {
     "data": {
      "text/plain": [
       "Text(0.5, 1.0, 'Histogram of Year_Birth Distriubtion')"
      ]
     },
     "execution_count": 15,
     "metadata": {},
     "output_type": "execute_result"
    },
    {
     "data": {
      "image/png": "[encoded data removed]",
      "text/plain": [
       "<Figure size 360x360 with 1 Axes>"
      ]
     },
     "metadata": {
      "needs_background": "light"
     },
     "output_type": "display_data"
    }
   ],
   "source": [
    "# plot histogram of birth year column\n",
    "sns.displot(data=filter_birth, x='Year_Birth')\n",
    "plt.title('Histogram of Year_Birth Distriubtion')"
   ]
  },
  {
   "cell_type": "code",
   "execution_count": 16,
   "id": "311d386b-9cae-4d4a-b30c-279d1dee6846",
   "metadata": {},
   "outputs": [
    {
     "data": {
      "image/png": "[encoded data removed]",
      "text/plain": [
       "<Figure size 452x360 with 1 Axes>"
      ]
     },
     "metadata": {
      "needs_background": "light"
     },
     "output_type": "display_data"
    }
   ],
   "source": [
    "# displot filtered by level of education \n",
    "sns.displot(data=filter_birth, x='Year_Birth', hue='Education', element='step')\n",
    "plt.title('Histogram of Year_Birth By Education Level')\n",
    "plt.show()"
   ]
  },
  {
   "cell_type": "markdown",
   "id": "6d11ec98-e652-4e94-aeec-c013d639cc91",
   "metadata": {},
   "source": [
    "I decided to add an additional `hue` parameter so that I could see how the distributions of the customer's birth year varied by their respective education level.\n",
    "\n",
    "Observations: The bulk of the customer's contained in this dataset were born in the mid-70's. It looks like the ages of the customers (today) range from about 28 - 80 years old. When I added the `hue` parameter to filter by education level, I could see that most of the customer's have graduated from college, while a decent amount of the older folks (born before 1970) have received their Ph.D. I felt that was pretty interesting!"
   ]
  },
  {
   "cell_type": "markdown",
   "id": "e5d5378e-1df5-4656-86ba-5ae1456a28f9",
   "metadata": {},
   "source": [
    "## Graphical Analysis of `Education` Column"
   ]
  },
  {
   "cell_type": "markdown",
   "id": "bd299c2c-c5f8-4c5c-810e-c86cda71633b",
   "metadata": {},
   "source": [
    "While I was able to make some general conclusions about how many customers belonged to each of the different levels of education, I felt that reviewing a bar chart of the education level column would provide more evident insights."
   ]
  },
  {
   "cell_type": "code",
   "execution_count": 17,
   "id": "3c947c57-f564-47c1-b75f-afe650379de6",
   "metadata": {},
   "outputs": [
    {
     "data": {
      "image/png": "[encoded data removed]",
      "text/plain": [
       "<Figure size 432x288 with 1 Axes>"
      ]
     },
     "metadata": {
      "needs_background": "light"
     },
     "output_type": "display_data"
    }
   ],
   "source": [
    "# create bar chart of education column\n",
    "sns.countplot(x=filter_birth['Education'], palette='bright')\n",
    "plt.title('Barchart Counting Each Education Membership')\n",
    "plt.show()"
   ]
  },
  {
   "cell_type": "markdown",
   "id": "8622906c-42a2-45cf-916f-cc56a59862eb",
   "metadata": {},
   "source": [
    "Observations: Again, it would appear that the bulk of the customers in the dataset have received their college degrees. I found it interesting that the count of Ph.D. holders was greater than those with Master's degrees. I wasn't exactly sure what '2n cycle education' meant, but after looking into it a bit, it would seem to mean that the customer is currently pursuing their Master's (perhaps this is more popular in different countries?)"
   ]
  },
  {
   "cell_type": "markdown",
   "id": "21d2eb24-044c-40f1-b43c-4a9f9fe0513c",
   "metadata": {},
   "source": [
    "## Graphical Analysis of Country Column"
   ]
  },
  {
   "cell_type": "markdown",
   "id": "fa58bf03-a72b-4a03-b319-b564d929b562",
   "metadata": {},
   "source": [
    "The last column that I wanted to get a feel for before diving into the data transformation stage was the country column. I was curious to see the different countries that were included in this dataset, as well as how many customers belonged to each country. I felt the best approach to seeing this visually would be accomplished by a piechart."
   ]
  },
  {
   "cell_type": "code",
   "execution_count": 18,
   "id": "7b356035-0a1f-4e98-8280-1537a1c53db5",
   "metadata": {},
   "outputs": [
    {
     "data": {
      "image/png": "[encoded data removed]",
      "text/plain": [
       "<Figure size 432x288 with 1 Axes>"
      ]
     },
     "metadata": {},
     "output_type": "display_data"
    }
   ],
   "source": [
    "# display pie chart of country value membership\n",
    "data.groupby('Country').size().plot(kind='pie', autopct='%1.1f%%')\n",
    "plt.title('Piechart of Country Column')\n",
    "plt.show()"
   ]
  },
  {
   "cell_type": "markdown",
   "id": "93ab88e9-5501-43ac-b902-c56c8fba5f12",
   "metadata": {},
   "source": [
    "After reviewing this piechart, there are quite a few countries included in this dataset. Nearly half of the customers are from Spain (I am guessing that the professor that created this dataset is Spanish), while the next largest country participating in the dataset is Saudi Arabia, followed by Canada, Australia, and the US. This visualization was quite useful, as it helped me identify potential new columns to create/combine or drop altogether. For example, the percentage of customers from ME (I believe this is Montenegro?) is only 0.1% so customers from there could be dropped without much impact. Also, I might be able to get away with combining Canada and the US into a North America country as we are so similar in culture and location."
   ]
  },
  {
   "cell_type": "markdown",
   "id": "f71c640f-8aa1-4324-902d-261fa5372586",
   "metadata": {},
   "source": [
    "## Work For Milestone #2"
   ]
  },
  {
   "cell_type": "markdown",
   "id": "1b2ec6ca-9479-412e-8c96-7b2530227fd5",
   "metadata": {},
   "source": [
    "## Data Preparation"
   ]
  },
  {
   "cell_type": "markdown",
   "id": "dfc55562-7f65-435c-95e8-2979c48815c8",
   "metadata": {},
   "source": [
    "List of opeartions to consider:\n",
    " - drop features that are not useful for model buildling\n",
    " - perform data extraction/selection\n",
    " - transform features\n",
    " - engineer new useful features\n",
    " - handle missing data (explain reasoning)\n",
    " - create dummy variables if necessary"
   ]
  },
  {
   "cell_type": "code",
   "execution_count": 19,
   "id": "a1b4bd21-7b21-4eb7-8704-3123bdc88c43",
   "metadata": {},
   "outputs": [],
   "source": [
    "# create copy of df for milestone 2 work\n",
    "df2 = filter_birth.copy()"
   ]
  },
  {
   "cell_type": "code",
   "execution_count": 20,
   "id": "5d342d45-57df-41f6-9d61-a05cfc312727",
   "metadata": {},
   "outputs": [
    {
     "name": "stdout",
     "output_type": "stream",
     "text": [
      "<class 'pandas.core.frame.DataFrame'>\n",
      "Int64Index: 2212 entries, 0 to 2239\n",
      "Data columns (total 28 columns):\n",
      " #   Column               Non-Null Count  Dtype  \n",
      "---  ------               --------------  -----  \n",
      " 0   ID                   2212 non-null   int64  \n",
      " 1   Year_Birth           2212 non-null   int64  \n",
      " 2   Education            2212 non-null   object \n",
      " 3   Marital_Status       2212 non-null   object \n",
      " 4   Income               2212 non-null   float64\n",
      " 5   Kidhome              2212 non-null   int64  \n",
      " 6   Teenhome             2212 non-null   int64  \n",
      " 7   Dt_Customer          2212 non-null   object \n",
      " 8   Recency              2212 non-null   int64  \n",
      " 9   MntWines             2212 non-null   int64  \n",
      " 10  MntFruits            2212 non-null   int64  \n",
      " 11  MntMeatProducts      2212 non-null   int64  \n",
      " 12  MntFishProducts      2212 non-null   int64  \n",
      " 13  MntSweetProducts     2212 non-null   int64  \n",
      " 14  MntGoldProds         2212 non-null   int64  \n",
      " 15  NumDealsPurchases    2212 non-null   int64  \n",
      " 16  NumWebPurchases      2212 non-null   int64  \n",
      " 17  NumCatalogPurchases  2212 non-null   int64  \n",
      " 18  NumStorePurchases    2212 non-null   int64  \n",
      " 19  NumWebVisitsMonth    2212 non-null   int64  \n",
      " 20  AcceptedCmp3         2212 non-null   int64  \n",
      " 21  AcceptedCmp4         2212 non-null   int64  \n",
      " 22  AcceptedCmp5         2212 non-null   int64  \n",
      " 23  AcceptedCmp1         2212 non-null   int64  \n",
      " 24  AcceptedCmp2         2212 non-null   int64  \n",
      " 25  Response             2212 non-null   int64  \n",
      " 26  Complain             2212 non-null   int64  \n",
      " 27  Country              2212 non-null   object \n",
      "dtypes: float64(1), int64(23), object(4)\n",
      "memory usage: 565.7+ KB\n"
     ]
    }
   ],
   "source": [
    "# check info for dtypes and dimensions\n",
    "df2.info()"
   ]
  },
  {
   "cell_type": "markdown",
   "id": "dd950f4a-c35a-4130-9d66-43ae4ce17456",
   "metadata": {},
   "source": [
    "## Handle Missing Data"
   ]
  },
  {
   "cell_type": "code",
   "execution_count": 21,
   "id": "d5ec4caf-dfe2-4785-b64a-3303840d68fa",
   "metadata": {},
   "outputs": [
    {
     "data": {
      "text/plain": [
       "ID                     0\n",
       "Year_Birth             0\n",
       "Education              0\n",
       "Marital_Status         0\n",
       "Income                 0\n",
       "Kidhome                0\n",
       "Teenhome               0\n",
       "Dt_Customer            0\n",
       "Recency                0\n",
       "MntWines               0\n",
       "MntFruits              0\n",
       "MntMeatProducts        0\n",
       "MntFishProducts        0\n",
       "MntSweetProducts       0\n",
       "MntGoldProds           0\n",
       "NumDealsPurchases      0\n",
       "NumWebPurchases        0\n",
       "NumCatalogPurchases    0\n",
       "NumStorePurchases      0\n",
       "NumWebVisitsMonth      0\n",
       "AcceptedCmp3           0\n",
       "AcceptedCmp4           0\n",
       "AcceptedCmp5           0\n",
       "AcceptedCmp1           0\n",
       "AcceptedCmp2           0\n",
       "Response               0\n",
       "Complain               0\n",
       "Country                0\n",
       "dtype: int64"
      ]
     },
     "execution_count": 21,
     "metadata": {},
     "output_type": "execute_result"
    }
   ],
   "source": [
    "# check count of null values for each column\n",
    "df2.isnull().sum()"
   ]
  },
  {
   "cell_type": "code",
   "execution_count": 22,
   "id": "0e6558d4-5c1a-4446-8b39-21179241e4d6",
   "metadata": {},
   "outputs": [
    {
     "data": {
      "text/plain": [
       "False    2212\n",
       "dtype: int64"
      ]
     },
     "execution_count": 22,
     "metadata": {},
     "output_type": "execute_result"
    }
   ],
   "source": [
    "# check for duplicate data\n",
    "df2.duplicated().value_counts()"
   ]
  },
  {
   "cell_type": "markdown",
   "id": "d60608c9-787a-4131-8462-504993911a3a",
   "metadata": {},
   "source": [
    "There do not appear to be ANY missing or duplicate values"
   ]
  },
  {
   "cell_type": "markdown",
   "id": "a0dc7d87-8bc5-4ee5-a002-1b016782969d",
   "metadata": {},
   "source": [
    "## Data Transformations"
   ]
  },
  {
   "cell_type": "markdown",
   "id": "7c80d69b-c3ee-4a67-bccc-ed1e07b678b2",
   "metadata": {},
   "source": [
    "#### `Income` Column"
   ]
  },
  {
   "cell_type": "markdown",
   "id": "10353be4-9030-40ce-9539-1575f05c9877",
   "metadata": {},
   "source": [
    "As performed in the work for milestone 1, the `Income` column required a little bit of cleaning before I was able to create visualizations. To recap, I had to strip the dollar signs and commas from each string dollar amount. Then, I casted each string value to the float data type. To see the full details on how I transformed the income column, please refer to the early work above in this Notebook."
   ]
  },
  {
   "cell_type": "markdown",
   "id": "46dcd67a-39de-4820-8e21-76a910427ce4",
   "metadata": {},
   "source": [
    "#### `Dt_Customer` Column"
   ]
  },
  {
   "cell_type": "markdown",
   "id": "efd7972e-46ae-41f0-a124-ebc5385b092d",
   "metadata": {},
   "source": [
    "The values under the column `Dt_Customer` were enocded as strings. In order to analyze these values, it was necessary to convert them to the datetime format."
   ]
  },
  {
   "cell_type": "code",
   "execution_count": 23,
   "id": "927dbb3a-476b-4fca-920f-dd4581f2a659",
   "metadata": {},
   "outputs": [
    {
     "data": {
      "text/plain": [
       "dtype('<M8[ns]')"
      ]
     },
     "execution_count": 23,
     "metadata": {},
     "output_type": "execute_result"
    }
   ],
   "source": [
    "# convert string values for dt_customer column to datetime format\n",
    "df2['Dt_Customer'] = pd.to_datetime(df2['Dt_Customer'])\n",
    "\n",
    "# check dtype to ensure changes were implemented\n",
    "df2['Dt_Customer'].dtype"
   ]
  },
  {
   "cell_type": "markdown",
   "id": "a7face10-9789-4d8b-a524-3322408a293f",
   "metadata": {},
   "source": [
    "## Creating New Features"
   ]
  },
  {
   "cell_type": "markdown",
   "id": "08f3e74d-e3a0-4ec5-8a07-346907a27663",
   "metadata": {},
   "source": [
    "#### Combining `Kidhome` and `Teenhome` Columns"
   ]
  },
  {
   "cell_type": "markdown",
   "id": "7d2fa199-f927-4364-bdf0-e1b2227456c7",
   "metadata": {},
   "source": [
    "After doing some initial EDA and exploring basic visualizations, there were quite a few columns that I felt could be consolidated into single columns. The first of which were the two columns the measured the amount of kids and teens in the house. I felt it would be intuitive to combine these into one column `children_at_home`, as the age of the child does not matter as much; if they are living at the household, it is safe to assume they are dependent on the adult (customer)."
   ]
  },
  {
   "cell_type": "code",
   "execution_count": 24,
   "id": "61df6eb5-4f43-400f-81cc-bc98dbb90932",
   "metadata": {},
   "outputs": [
    {
     "data": {
      "text/html": [
       "<div>\n",
       "<style scoped>\n",
       "    .dataframe tbody tr th:only-of-type {\n",
       "        vertical-align: middle;\n",
       "    }\n",
       "\n",
       "    .dataframe tbody tr th {\n",
       "        vertical-align: top;\n",
       "    }\n",
       "\n",
       "    .dataframe thead th {\n",
       "        text-align: right;\n",
       "    }\n",
       "</style>\n",
       "<table border=\"1\" class=\"dataframe\">\n",
       "  <thead>\n",
       "    <tr style=\"text-align: right;\">\n",
       "      <th></th>\n",
       "      <th>Kidhome</th>\n",
       "      <th>Teenhome</th>\n",
       "      <th>children_at_home</th>\n",
       "    </tr>\n",
       "  </thead>\n",
       "  <tbody>\n",
       "    <tr>\n",
       "      <th>0</th>\n",
       "      <td>0</td>\n",
       "      <td>0</td>\n",
       "      <td>0</td>\n",
       "    </tr>\n",
       "    <tr>\n",
       "      <th>1</th>\n",
       "      <td>0</td>\n",
       "      <td>0</td>\n",
       "      <td>0</td>\n",
       "    </tr>\n",
       "    <tr>\n",
       "      <th>2</th>\n",
       "      <td>0</td>\n",
       "      <td>1</td>\n",
       "      <td>1</td>\n",
       "    </tr>\n",
       "    <tr>\n",
       "      <th>3</th>\n",
       "      <td>1</td>\n",
       "      <td>1</td>\n",
       "      <td>2</td>\n",
       "    </tr>\n",
       "    <tr>\n",
       "      <th>4</th>\n",
       "      <td>1</td>\n",
       "      <td>0</td>\n",
       "      <td>1</td>\n",
       "    </tr>\n",
       "  </tbody>\n",
       "</table>\n",
       "</div>"
      ],
      "text/plain": [
       "   Kidhome  Teenhome  children_at_home\n",
       "0        0         0                 0\n",
       "1        0         0                 0\n",
       "2        0         1                 1\n",
       "3        1         1                 2\n",
       "4        1         0                 1"
      ]
     },
     "execution_count": 24,
     "metadata": {},
     "output_type": "execute_result"
    }
   ],
   "source": [
    "# combine kidhome and teenhome columns into new column\n",
    "df2['children_at_home'] = df2['Kidhome'] + df2['Teenhome']\n",
    "\n",
    "# check three columns to see if they were added correctly\n",
    "df2[['Kidhome', 'Teenhome', 'children_at_home']].head()"
   ]
  },
  {
   "cell_type": "markdown",
   "id": "fd90e451-59e8-45b5-adfa-8f95d45c7721",
   "metadata": {},
   "source": [
    "I could verify that they values for each column were added correctly to the new column, as the values for idx 3 were both 1 for kidhome and teenhome, and the added column children_at_home was 2."
   ]
  },
  {
   "cell_type": "markdown",
   "id": "c24de84f-a625-4a67-9476-aace6dfac55c",
   "metadata": {},
   "source": [
    "#### Combining All Expenditures and Purchases"
   ]
  },
  {
   "cell_type": "markdown",
   "id": "0773f41c-cbb5-461a-be80-0679398f054c",
   "metadata": {},
   "source": [
    "There were a few columns that I felt could be combined to create a variable to get a total picture of the data. These included columns relating to expenditures and purchases. I decided to create two new columns (`total_expenditures` and `total_purchases`)."
   ]
  },
  {
   "cell_type": "code",
   "execution_count": 25,
   "id": "550d3a05-4e03-4946-9975-c585ead9990d",
   "metadata": {},
   "outputs": [
    {
     "data": {
      "text/html": [
       "<div>\n",
       "<style scoped>\n",
       "    .dataframe tbody tr th:only-of-type {\n",
       "        vertical-align: middle;\n",
       "    }\n",
       "\n",
       "    .dataframe tbody tr th {\n",
       "        vertical-align: top;\n",
       "    }\n",
       "\n",
       "    .dataframe thead th {\n",
       "        text-align: right;\n",
       "    }\n",
       "</style>\n",
       "<table border=\"1\" class=\"dataframe\">\n",
       "  <thead>\n",
       "    <tr style=\"text-align: right;\">\n",
       "      <th></th>\n",
       "      <th>total_expenditures</th>\n",
       "      <th>total_purchases</th>\n",
       "    </tr>\n",
       "  </thead>\n",
       "  <tbody>\n",
       "    <tr>\n",
       "      <th>0</th>\n",
       "      <td>1001</td>\n",
       "      <td>15</td>\n",
       "    </tr>\n",
       "    <tr>\n",
       "      <th>1</th>\n",
       "      <td>577</td>\n",
       "      <td>18</td>\n",
       "    </tr>\n",
       "    <tr>\n",
       "      <th>2</th>\n",
       "      <td>249</td>\n",
       "      <td>11</td>\n",
       "    </tr>\n",
       "    <tr>\n",
       "      <th>3</th>\n",
       "      <td>11</td>\n",
       "      <td>4</td>\n",
       "    </tr>\n",
       "    <tr>\n",
       "      <th>4</th>\n",
       "      <td>91</td>\n",
       "      <td>8</td>\n",
       "    </tr>\n",
       "  </tbody>\n",
       "</table>\n",
       "</div>"
      ],
      "text/plain": [
       "   total_expenditures  total_purchases\n",
       "0                1001               15\n",
       "1                 577               18\n",
       "2                 249               11\n",
       "3                  11                4\n",
       "4                  91                8"
      ]
     },
     "execution_count": 25,
     "metadata": {},
     "output_type": "execute_result"
    }
   ],
   "source": [
    "# create new total_expenditures column to add all money spent on various products (fish, wine, sweets, etc)\n",
    "df2['total_expenditures'] = df2['MntFishProducts'] + df2['MntWines'] + df2['MntFruits'] + df2['MntMeatProducts'] + df2['MntGoldProds']\n",
    "\n",
    "# create new total_purchases column to add all count of types of purchses (deals, web, store, and catalog)\n",
    "df2['total_purchases'] = df2['NumDealsPurchases'] + df2['NumWebPurchases'] + df2['NumStorePurchases'] + df2['NumCatalogPurchases']\n",
    "\n",
    "# check columns to see that they were created successfully\n",
    "df2[['total_expenditures', 'total_purchases']].head()"
   ]
  },
  {
   "cell_type": "markdown",
   "id": "b2ef6d23-b3b0-4ced-9323-d09ed004fdfd",
   "metadata": {},
   "source": [
    "#### Creating New Current Age Column"
   ]
  },
  {
   "cell_type": "markdown",
   "id": "90aaeda8-5224-4b5b-9c4b-40864b04c3c3",
   "metadata": {},
   "source": [
    "I felt it would be pretty useful to have a column that contained the current age of each of the customer's. For this, all I had to do was subtract todays current year from the year they were born (extracted for `Year_Birth` columns). While there might be some error as it is still early in 2022, I felt that it would not have a significant impact on my results."
   ]
  },
  {
   "cell_type": "code",
   "execution_count": 26,
   "id": "d9db4d5a-be15-4352-b9f3-369108920113",
   "metadata": {},
   "outputs": [],
   "source": [
    "# create new age column based on current year and year recorded for each customer's date of birth\n",
    "df2['age'] = datetime.datetime.now().year - df2['Year_Birth']"
   ]
  },
  {
   "cell_type": "markdown",
   "id": "d77dce01-40c3-43cc-92d8-0cb49ad0c558",
   "metadata": {},
   "source": [
    "#### Renaming Education Values"
   ]
  },
  {
   "cell_type": "markdown",
   "id": "062abbc5-5cf2-4fdd-864b-61e402ff6946",
   "metadata": {},
   "source": [
    "In order to better understand for myself the values associated with the customer's education levels, I went ahead and changed them to values more recognizable in the US. The main change was setting values of `2n cycle` to `Master`, as well as `Basic` to `Highschool`."
   ]
  },
  {
   "cell_type": "code",
   "execution_count": 27,
   "id": "e8714792-45d4-45c7-b5c8-b063f610ca58",
   "metadata": {},
   "outputs": [
    {
     "data": {
      "text/plain": [
       "Undergraduate    1115\n",
       "Master            563\n",
       "PhD               480\n",
       "Highschool         54\n",
       "Name: education_level, dtype: int64"
      ]
     },
     "execution_count": 27,
     "metadata": {},
     "output_type": "execute_result"
    }
   ],
   "source": [
    "# create dict of values to change\n",
    "ed_changes = {'Graduation':'Undergraduate', '2n Cycle':'Master', 'PhD':'PhD', 'Basic':'Highschool', 'Master':'Master'}\n",
    "\n",
    "# apply changes via mapping function to new column for education level\n",
    "df2['education_level'] = df2['Education'].map(ed_changes, na_action='ignore')\n",
    "\n",
    "# check value counts of new column to see reflected changed\n",
    "df2['education_level'].value_counts()"
   ]
  },
  {
   "cell_type": "markdown",
   "id": "f3312493-de66-43a6-8ef0-235eb51fe5b7",
   "metadata": {},
   "source": [
    "#### Refining Values in Marital Status"
   ]
  },
  {
   "cell_type": "markdown",
   "id": "c537fb66-8eec-4210-9820-f6eb4e876e22",
   "metadata": {},
   "source": [
    "After taking a look at the value counts for the column `martial_status`, I found there were some (hilarious) anomalous values such as YOLO and Absurd. I felt that these values served no purpose, so I filtered them out of my dataframe."
   ]
  },
  {
   "cell_type": "code",
   "execution_count": 28,
   "id": "aca7412a-6786-42e7-aa83-7972071cc05e",
   "metadata": {},
   "outputs": [],
   "source": [
    "# filter marital status column to contain only valid statuses\n",
    "df2 = df2[(df2['Marital_Status'] == 'Married') | (df2['Marital_Status']=='Divorced') | (df2['Marital_Status']=='Single') |\n",
    "                           (df2['Marital_Status']=='Widow')]"
   ]
  },
  {
   "cell_type": "code",
   "execution_count": 29,
   "id": "a6e1f707-2aef-46d5-b517-df11fe17ec70",
   "metadata": {},
   "outputs": [
    {
     "data": {
      "text/plain": [
       "Married     857\n",
       "Single      470\n",
       "Divorced    231\n",
       "Widow        76\n",
       "Name: Marital_Status, dtype: int64"
      ]
     },
     "execution_count": 29,
     "metadata": {},
     "output_type": "execute_result"
    }
   ],
   "source": [
    "df2['Marital_Status'].value_counts()"
   ]
  },
  {
   "cell_type": "markdown",
   "id": "14c446e7-6286-4e85-8aad-64fa75a4fe5c",
   "metadata": {},
   "source": [
    "#### Drop Useless Or Redundant Features"
   ]
  },
  {
   "cell_type": "code",
   "execution_count": 30,
   "id": "1f6971c6-45e8-4dfd-88ba-f908c9e3ec25",
   "metadata": {},
   "outputs": [
    {
     "data": {
      "text/plain": [
       "['ID',\n",
       " 'Year_Birth',\n",
       " 'Education',\n",
       " 'Marital_Status',\n",
       " 'Income',\n",
       " 'Kidhome',\n",
       " 'Teenhome',\n",
       " 'Dt_Customer',\n",
       " 'Recency',\n",
       " 'MntWines',\n",
       " 'MntFruits',\n",
       " 'MntMeatProducts',\n",
       " 'MntFishProducts',\n",
       " 'MntSweetProducts',\n",
       " 'MntGoldProds',\n",
       " 'NumDealsPurchases',\n",
       " 'NumWebPurchases',\n",
       " 'NumCatalogPurchases',\n",
       " 'NumStorePurchases',\n",
       " 'NumWebVisitsMonth',\n",
       " 'AcceptedCmp3',\n",
       " 'AcceptedCmp4',\n",
       " 'AcceptedCmp5',\n",
       " 'AcceptedCmp1',\n",
       " 'AcceptedCmp2',\n",
       " 'Response',\n",
       " 'Complain',\n",
       " 'Country',\n",
       " 'children_at_home',\n",
       " 'total_expenditures',\n",
       " 'total_purchases',\n",
       " 'age',\n",
       " 'education_level']"
      ]
     },
     "execution_count": 30,
     "metadata": {},
     "output_type": "execute_result"
    }
   ],
   "source": [
    "list(df2.columns)"
   ]
  },
  {
   "cell_type": "markdown",
   "id": "4bb37760-cfd9-4e23-b837-d2e79f8af385",
   "metadata": {},
   "source": [
    "The `ID` column contained in this dataset serves no purpose for analysis and I felt it could be dropped safely. After creating a new `education_level` column, the original `Education` column was redundant and could be dropped from the dateframe. Since I created an `age` column from the `Year_Birth` column, it could also be dropped safely. I combined `Teenhome` and `Kidhome` into one column, so those two could be dropped safely."
   ]
  },
  {
   "cell_type": "code",
   "execution_count": 31,
   "id": "59c19552-8135-432c-a7c6-27bc30b4656b",
   "metadata": {},
   "outputs": [
    {
     "data": {
      "text/html": [
       "<div>\n",
       "<style scoped>\n",
       "    .dataframe tbody tr th:only-of-type {\n",
       "        vertical-align: middle;\n",
       "    }\n",
       "\n",
       "    .dataframe tbody tr th {\n",
       "        vertical-align: top;\n",
       "    }\n",
       "\n",
       "    .dataframe thead th {\n",
       "        text-align: right;\n",
       "    }\n",
       "</style>\n",
       "<table border=\"1\" class=\"dataframe\">\n",
       "  <thead>\n",
       "    <tr style=\"text-align: right;\">\n",
       "      <th></th>\n",
       "      <th>Marital_Status</th>\n",
       "      <th>Income</th>\n",
       "      <th>Recency</th>\n",
       "      <th>MntWines</th>\n",
       "      <th>MntFruits</th>\n",
       "      <th>MntMeatProducts</th>\n",
       "      <th>MntFishProducts</th>\n",
       "      <th>MntSweetProducts</th>\n",
       "      <th>MntGoldProds</th>\n",
       "      <th>NumDealsPurchases</th>\n",
       "      <th>...</th>\n",
       "      <th>AcceptedCmp1</th>\n",
       "      <th>AcceptedCmp2</th>\n",
       "      <th>Response</th>\n",
       "      <th>Complain</th>\n",
       "      <th>Country</th>\n",
       "      <th>children_at_home</th>\n",
       "      <th>total_expenditures</th>\n",
       "      <th>total_purchases</th>\n",
       "      <th>age</th>\n",
       "      <th>education_level</th>\n",
       "    </tr>\n",
       "  </thead>\n",
       "  <tbody>\n",
       "    <tr>\n",
       "      <th>0</th>\n",
       "      <td>Divorced</td>\n",
       "      <td>84835.0</td>\n",
       "      <td>0</td>\n",
       "      <td>189</td>\n",
       "      <td>104</td>\n",
       "      <td>379</td>\n",
       "      <td>111</td>\n",
       "      <td>189</td>\n",
       "      <td>218</td>\n",
       "      <td>1</td>\n",
       "      <td>...</td>\n",
       "      <td>0</td>\n",
       "      <td>0</td>\n",
       "      <td>1</td>\n",
       "      <td>0</td>\n",
       "      <td>SP</td>\n",
       "      <td>0</td>\n",
       "      <td>1001</td>\n",
       "      <td>15</td>\n",
       "      <td>52</td>\n",
       "      <td>Undergraduate</td>\n",
       "    </tr>\n",
       "    <tr>\n",
       "      <th>1</th>\n",
       "      <td>Single</td>\n",
       "      <td>57091.0</td>\n",
       "      <td>0</td>\n",
       "      <td>464</td>\n",
       "      <td>5</td>\n",
       "      <td>64</td>\n",
       "      <td>7</td>\n",
       "      <td>0</td>\n",
       "      <td>37</td>\n",
       "      <td>1</td>\n",
       "      <td>...</td>\n",
       "      <td>0</td>\n",
       "      <td>1</td>\n",
       "      <td>1</td>\n",
       "      <td>0</td>\n",
       "      <td>CA</td>\n",
       "      <td>0</td>\n",
       "      <td>577</td>\n",
       "      <td>18</td>\n",
       "      <td>61</td>\n",
       "      <td>Undergraduate</td>\n",
       "    </tr>\n",
       "    <tr>\n",
       "      <th>2</th>\n",
       "      <td>Married</td>\n",
       "      <td>67267.0</td>\n",
       "      <td>0</td>\n",
       "      <td>134</td>\n",
       "      <td>11</td>\n",
       "      <td>59</td>\n",
       "      <td>15</td>\n",
       "      <td>2</td>\n",
       "      <td>30</td>\n",
       "      <td>1</td>\n",
       "      <td>...</td>\n",
       "      <td>0</td>\n",
       "      <td>0</td>\n",
       "      <td>0</td>\n",
       "      <td>0</td>\n",
       "      <td>US</td>\n",
       "      <td>1</td>\n",
       "      <td>249</td>\n",
       "      <td>11</td>\n",
       "      <td>64</td>\n",
       "      <td>Undergraduate</td>\n",
       "    </tr>\n",
       "    <tr>\n",
       "      <th>4</th>\n",
       "      <td>Single</td>\n",
       "      <td>21474.0</td>\n",
       "      <td>0</td>\n",
       "      <td>6</td>\n",
       "      <td>16</td>\n",
       "      <td>24</td>\n",
       "      <td>11</td>\n",
       "      <td>0</td>\n",
       "      <td>34</td>\n",
       "      <td>2</td>\n",
       "      <td>...</td>\n",
       "      <td>0</td>\n",
       "      <td>0</td>\n",
       "      <td>1</td>\n",
       "      <td>0</td>\n",
       "      <td>SP</td>\n",
       "      <td>1</td>\n",
       "      <td>91</td>\n",
       "      <td>8</td>\n",
       "      <td>33</td>\n",
       "      <td>Undergraduate</td>\n",
       "    </tr>\n",
       "    <tr>\n",
       "      <th>5</th>\n",
       "      <td>Single</td>\n",
       "      <td>71691.0</td>\n",
       "      <td>0</td>\n",
       "      <td>336</td>\n",
       "      <td>130</td>\n",
       "      <td>411</td>\n",
       "      <td>240</td>\n",
       "      <td>32</td>\n",
       "      <td>43</td>\n",
       "      <td>1</td>\n",
       "      <td>...</td>\n",
       "      <td>0</td>\n",
       "      <td>0</td>\n",
       "      <td>1</td>\n",
       "      <td>0</td>\n",
       "      <td>SP</td>\n",
       "      <td>0</td>\n",
       "      <td>1160</td>\n",
       "      <td>17</td>\n",
       "      <td>64</td>\n",
       "      <td>PhD</td>\n",
       "    </tr>\n",
       "  </tbody>\n",
       "</table>\n",
       "<p>5 rows × 27 columns</p>\n",
       "</div>"
      ],
      "text/plain": [
       "  Marital_Status   Income  Recency  MntWines  MntFruits  MntMeatProducts  \\\n",
       "0       Divorced  84835.0        0       189        104              379   \n",
       "1         Single  57091.0        0       464          5               64   \n",
       "2        Married  67267.0        0       134         11               59   \n",
       "4         Single  21474.0        0         6         16               24   \n",
       "5         Single  71691.0        0       336        130              411   \n",
       "\n",
       "   MntFishProducts  MntSweetProducts  MntGoldProds  NumDealsPurchases  ...  \\\n",
       "0              111               189           218                  1  ...   \n",
       "1                7                 0            37                  1  ...   \n",
       "2               15                 2            30                  1  ...   \n",
       "4               11                 0            34                  2  ...   \n",
       "5              240                32            43                  1  ...   \n",
       "\n",
       "   AcceptedCmp1  AcceptedCmp2  Response  Complain  Country  children_at_home  \\\n",
       "0             0             0         1         0       SP                 0   \n",
       "1             0             1         1         0       CA                 0   \n",
       "2             0             0         0         0       US                 1   \n",
       "4             0             0         1         0       SP                 1   \n",
       "5             0             0         1         0       SP                 0   \n",
       "\n",
       "   total_expenditures  total_purchases  age  education_level  \n",
       "0                1001               15   52    Undergraduate  \n",
       "1                 577               18   61    Undergraduate  \n",
       "2                 249               11   64    Undergraduate  \n",
       "4                  91                8   33    Undergraduate  \n",
       "5                1160               17   64              PhD  \n",
       "\n",
       "[5 rows x 27 columns]"
      ]
     },
     "execution_count": 31,
     "metadata": {},
     "output_type": "execute_result"
    }
   ],
   "source": [
    "df3 = df2.drop(['ID', 'Education', 'Year_Birth', 'Kidhome', 'Teenhome', 'Dt_Customer'], axis=1)\n",
    "df3.head()"
   ]
  },
  {
   "cell_type": "markdown",
   "id": "08d334a2-9f06-4d08-96fa-3aa4ce4ea327",
   "metadata": {},
   "source": [
    "#### Renaming Columns For Consistency"
   ]
  },
  {
   "cell_type": "markdown",
   "id": "0bea4a52-e3cb-4026-9cd6-567ee3ee90ff",
   "metadata": {},
   "source": [
    "This has more to do with personal preference, but I went ahead a renamed the columns so that they were consistent in their case and format. I have gotten into the habit of making all of my column names lowercase. Also, if they contain more than one more, I separate each word with an underscore."
   ]
  },
  {
   "cell_type": "code",
   "execution_count": 32,
   "id": "10d63bb5-15b9-4bf4-a883-5b144b0b35f7",
   "metadata": {},
   "outputs": [
    {
     "data": {
      "text/html": [
       "<div>\n",
       "<style scoped>\n",
       "    .dataframe tbody tr th:only-of-type {\n",
       "        vertical-align: middle;\n",
       "    }\n",
       "\n",
       "    .dataframe tbody tr th {\n",
       "        vertical-align: top;\n",
       "    }\n",
       "\n",
       "    .dataframe thead th {\n",
       "        text-align: right;\n",
       "    }\n",
       "</style>\n",
       "<table border=\"1\" class=\"dataframe\">\n",
       "  <thead>\n",
       "    <tr style=\"text-align: right;\">\n",
       "      <th></th>\n",
       "      <th>marital_status</th>\n",
       "      <th>income</th>\n",
       "      <th>recency</th>\n",
       "      <th>mnt_wines</th>\n",
       "      <th>mnt_fruits</th>\n",
       "      <th>mnt_meat_products</th>\n",
       "      <th>mnt_fish_products</th>\n",
       "      <th>mnt_sweet_products</th>\n",
       "      <th>mnt_gold_products</th>\n",
       "      <th>num_deals_purchases</th>\n",
       "      <th>...</th>\n",
       "      <th>AcceptedCmp1</th>\n",
       "      <th>AcceptedCmp2</th>\n",
       "      <th>response</th>\n",
       "      <th>complain</th>\n",
       "      <th>country</th>\n",
       "      <th>children_at_home</th>\n",
       "      <th>total_expenditures</th>\n",
       "      <th>total_purchases</th>\n",
       "      <th>age</th>\n",
       "      <th>education_level</th>\n",
       "    </tr>\n",
       "  </thead>\n",
       "  <tbody>\n",
       "    <tr>\n",
       "      <th>0</th>\n",
       "      <td>Divorced</td>\n",
       "      <td>84835.0</td>\n",
       "      <td>0</td>\n",
       "      <td>189</td>\n",
       "      <td>104</td>\n",
       "      <td>379</td>\n",
       "      <td>111</td>\n",
       "      <td>189</td>\n",
       "      <td>218</td>\n",
       "      <td>1</td>\n",
       "      <td>...</td>\n",
       "      <td>0</td>\n",
       "      <td>0</td>\n",
       "      <td>1</td>\n",
       "      <td>0</td>\n",
       "      <td>SP</td>\n",
       "      <td>0</td>\n",
       "      <td>1001</td>\n",
       "      <td>15</td>\n",
       "      <td>52</td>\n",
       "      <td>Undergraduate</td>\n",
       "    </tr>\n",
       "    <tr>\n",
       "      <th>1</th>\n",
       "      <td>Single</td>\n",
       "      <td>57091.0</td>\n",
       "      <td>0</td>\n",
       "      <td>464</td>\n",
       "      <td>5</td>\n",
       "      <td>64</td>\n",
       "      <td>7</td>\n",
       "      <td>0</td>\n",
       "      <td>37</td>\n",
       "      <td>1</td>\n",
       "      <td>...</td>\n",
       "      <td>0</td>\n",
       "      <td>1</td>\n",
       "      <td>1</td>\n",
       "      <td>0</td>\n",
       "      <td>CA</td>\n",
       "      <td>0</td>\n",
       "      <td>577</td>\n",
       "      <td>18</td>\n",
       "      <td>61</td>\n",
       "      <td>Undergraduate</td>\n",
       "    </tr>\n",
       "    <tr>\n",
       "      <th>2</th>\n",
       "      <td>Married</td>\n",
       "      <td>67267.0</td>\n",
       "      <td>0</td>\n",
       "      <td>134</td>\n",
       "      <td>11</td>\n",
       "      <td>59</td>\n",
       "      <td>15</td>\n",
       "      <td>2</td>\n",
       "      <td>30</td>\n",
       "      <td>1</td>\n",
       "      <td>...</td>\n",
       "      <td>0</td>\n",
       "      <td>0</td>\n",
       "      <td>0</td>\n",
       "      <td>0</td>\n",
       "      <td>US</td>\n",
       "      <td>1</td>\n",
       "      <td>249</td>\n",
       "      <td>11</td>\n",
       "      <td>64</td>\n",
       "      <td>Undergraduate</td>\n",
       "    </tr>\n",
       "    <tr>\n",
       "      <th>4</th>\n",
       "      <td>Single</td>\n",
       "      <td>21474.0</td>\n",
       "      <td>0</td>\n",
       "      <td>6</td>\n",
       "      <td>16</td>\n",
       "      <td>24</td>\n",
       "      <td>11</td>\n",
       "      <td>0</td>\n",
       "      <td>34</td>\n",
       "      <td>2</td>\n",
       "      <td>...</td>\n",
       "      <td>0</td>\n",
       "      <td>0</td>\n",
       "      <td>1</td>\n",
       "      <td>0</td>\n",
       "      <td>SP</td>\n",
       "      <td>1</td>\n",
       "      <td>91</td>\n",
       "      <td>8</td>\n",
       "      <td>33</td>\n",
       "      <td>Undergraduate</td>\n",
       "    </tr>\n",
       "    <tr>\n",
       "      <th>5</th>\n",
       "      <td>Single</td>\n",
       "      <td>71691.0</td>\n",
       "      <td>0</td>\n",
       "      <td>336</td>\n",
       "      <td>130</td>\n",
       "      <td>411</td>\n",
       "      <td>240</td>\n",
       "      <td>32</td>\n",
       "      <td>43</td>\n",
       "      <td>1</td>\n",
       "      <td>...</td>\n",
       "      <td>0</td>\n",
       "      <td>0</td>\n",
       "      <td>1</td>\n",
       "      <td>0</td>\n",
       "      <td>SP</td>\n",
       "      <td>0</td>\n",
       "      <td>1160</td>\n",
       "      <td>17</td>\n",
       "      <td>64</td>\n",
       "      <td>PhD</td>\n",
       "    </tr>\n",
       "  </tbody>\n",
       "</table>\n",
       "<p>5 rows × 27 columns</p>\n",
       "</div>"
      ],
      "text/plain": [
       "  marital_status   income  recency  mnt_wines  mnt_fruits  mnt_meat_products  \\\n",
       "0       Divorced  84835.0        0        189         104                379   \n",
       "1         Single  57091.0        0        464           5                 64   \n",
       "2        Married  67267.0        0        134          11                 59   \n",
       "4         Single  21474.0        0          6          16                 24   \n",
       "5         Single  71691.0        0        336         130                411   \n",
       "\n",
       "   mnt_fish_products  mnt_sweet_products  mnt_gold_products  \\\n",
       "0                111                 189                218   \n",
       "1                  7                   0                 37   \n",
       "2                 15                   2                 30   \n",
       "4                 11                   0                 34   \n",
       "5                240                  32                 43   \n",
       "\n",
       "   num_deals_purchases  ...  AcceptedCmp1  AcceptedCmp2  response  complain  \\\n",
       "0                    1  ...             0             0         1         0   \n",
       "1                    1  ...             0             1         1         0   \n",
       "2                    1  ...             0             0         0         0   \n",
       "4                    2  ...             0             0         1         0   \n",
       "5                    1  ...             0             0         1         0   \n",
       "\n",
       "   country  children_at_home  total_expenditures  total_purchases  age  \\\n",
       "0       SP                 0                1001               15   52   \n",
       "1       CA                 0                 577               18   61   \n",
       "2       US                 1                 249               11   64   \n",
       "4       SP                 1                  91                8   33   \n",
       "5       SP                 0                1160               17   64   \n",
       "\n",
       "   education_level  \n",
       "0    Undergraduate  \n",
       "1    Undergraduate  \n",
       "2    Undergraduate  \n",
       "4    Undergraduate  \n",
       "5              PhD  \n",
       "\n",
       "[5 rows x 27 columns]"
      ]
     },
     "execution_count": 32,
     "metadata": {},
     "output_type": "execute_result"
    }
   ],
   "source": [
    "# rename columns for consistency\n",
    "df3.rename({'Marital_Status':'marital_status',\n",
    "     'Income':'income',\n",
    "     'Dt_Customer':'dt_customer',\n",
    "     'Recency':'recency',\n",
    "     'MntWines':'mnt_wines',\n",
    "     'MntFruits':'mnt_fruits',\n",
    "     'MntMeatProducts':'mnt_meat_products',\n",
    "     'MntFishProducts':'mnt_fish_products',\n",
    "     'MntSweetProducts':'mnt_sweet_products',\n",
    "     'MntGoldProds':'mnt_gold_products',\n",
    "     'NumDealsPurchases':'num_deals_purchases',\n",
    "     'NumWebPurchases':'num_web_purchases',\n",
    "     'NumCatalogPurchases':'num_catalog_purchases',\n",
    "     'NumStorePurchases':'num_store_purchases',\n",
    "     'AcceptedCmd3':'accepted_cmp_3',\n",
    "     'AcceptedCmd4':'accepted_cmp_4',\n",
    "     'AcceptedCmd5':'accepted_cmp_5',\n",
    "     'AcceptedCmd1':'accepted_cmp_1',\n",
    "     'AcceptedCmd2':'accepted_cmp_2',\n",
    "     'Response':'response',\n",
    "     'Complain':'complain',\n",
    "     'Country':'country',}, axis=1, inplace=True)\n",
    "df3.head()"
   ]
  },
  {
   "cell_type": "markdown",
   "id": "8695e4bb-e353-419b-b2ad-31f03df4205a",
   "metadata": {},
   "source": [
    "#### Create Dummy Variables For Categorical Features"
   ]
  },
  {
   "cell_type": "code",
   "execution_count": 33,
   "id": "2b692b88-e285-44f7-af41-cafd07dec281",
   "metadata": {},
   "outputs": [],
   "source": [
    "# create subset df of only categorical features\n",
    "categorical_feautres_df = df3.select_dtypes(exclude='number')\n",
    "\n",
    "# create new df to append dummy features\n",
    "dummy_df = pd.DataFrame()\n",
    "\n",
    "# iterate across each column and create new dummy value per feature\n",
    "for column in categorical_feautres_df.columns:\n",
    "    dummy_value = pd.get_dummies(categorical_feautres_df[column], prefix=column)\n",
    "    # add new features to empty dummy dataframe\n",
    "    dummy_df = pd.concat([dummy_df, dummy_value], axis=1)\n",
    "\n",
    "# merge new dummy features to full dataframe\n",
    "df4 = df3.copy()\n",
    "df4 = pd.concat([df4, dummy_df], axis=1)\n",
    "df4.drop(categorical_feautres_df.columns, axis=1, inplace=True)"
   ]
  },
  {
   "cell_type": "code",
   "execution_count": 34,
   "id": "9eef7467-e273-4b9b-b9eb-33026b8924bc",
   "metadata": {},
   "outputs": [
    {
     "data": {
      "text/html": [
       "<div>\n",
       "<style scoped>\n",
       "    .dataframe tbody tr th:only-of-type {\n",
       "        vertical-align: middle;\n",
       "    }\n",
       "\n",
       "    .dataframe tbody tr th {\n",
       "        vertical-align: top;\n",
       "    }\n",
       "\n",
       "    .dataframe thead th {\n",
       "        text-align: right;\n",
       "    }\n",
       "</style>\n",
       "<table border=\"1\" class=\"dataframe\">\n",
       "  <thead>\n",
       "    <tr style=\"text-align: right;\">\n",
       "      <th></th>\n",
       "      <th>income</th>\n",
       "      <th>recency</th>\n",
       "      <th>mnt_wines</th>\n",
       "      <th>mnt_fruits</th>\n",
       "      <th>mnt_meat_products</th>\n",
       "      <th>mnt_fish_products</th>\n",
       "      <th>mnt_sweet_products</th>\n",
       "      <th>mnt_gold_products</th>\n",
       "      <th>num_deals_purchases</th>\n",
       "      <th>num_web_purchases</th>\n",
       "      <th>...</th>\n",
       "      <th>country_GER</th>\n",
       "      <th>country_IND</th>\n",
       "      <th>country_ME</th>\n",
       "      <th>country_SA</th>\n",
       "      <th>country_SP</th>\n",
       "      <th>country_US</th>\n",
       "      <th>education_level_Highschool</th>\n",
       "      <th>education_level_Master</th>\n",
       "      <th>education_level_PhD</th>\n",
       "      <th>education_level_Undergraduate</th>\n",
       "    </tr>\n",
       "  </thead>\n",
       "  <tbody>\n",
       "    <tr>\n",
       "      <th>0</th>\n",
       "      <td>84835.0</td>\n",
       "      <td>0</td>\n",
       "      <td>189</td>\n",
       "      <td>104</td>\n",
       "      <td>379</td>\n",
       "      <td>111</td>\n",
       "      <td>189</td>\n",
       "      <td>218</td>\n",
       "      <td>1</td>\n",
       "      <td>4</td>\n",
       "      <td>...</td>\n",
       "      <td>0</td>\n",
       "      <td>0</td>\n",
       "      <td>0</td>\n",
       "      <td>0</td>\n",
       "      <td>1</td>\n",
       "      <td>0</td>\n",
       "      <td>0</td>\n",
       "      <td>0</td>\n",
       "      <td>0</td>\n",
       "      <td>1</td>\n",
       "    </tr>\n",
       "    <tr>\n",
       "      <th>1</th>\n",
       "      <td>57091.0</td>\n",
       "      <td>0</td>\n",
       "      <td>464</td>\n",
       "      <td>5</td>\n",
       "      <td>64</td>\n",
       "      <td>7</td>\n",
       "      <td>0</td>\n",
       "      <td>37</td>\n",
       "      <td>1</td>\n",
       "      <td>7</td>\n",
       "      <td>...</td>\n",
       "      <td>0</td>\n",
       "      <td>0</td>\n",
       "      <td>0</td>\n",
       "      <td>0</td>\n",
       "      <td>0</td>\n",
       "      <td>0</td>\n",
       "      <td>0</td>\n",
       "      <td>0</td>\n",
       "      <td>0</td>\n",
       "      <td>1</td>\n",
       "    </tr>\n",
       "    <tr>\n",
       "      <th>2</th>\n",
       "      <td>67267.0</td>\n",
       "      <td>0</td>\n",
       "      <td>134</td>\n",
       "      <td>11</td>\n",
       "      <td>59</td>\n",
       "      <td>15</td>\n",
       "      <td>2</td>\n",
       "      <td>30</td>\n",
       "      <td>1</td>\n",
       "      <td>3</td>\n",
       "      <td>...</td>\n",
       "      <td>0</td>\n",
       "      <td>0</td>\n",
       "      <td>0</td>\n",
       "      <td>0</td>\n",
       "      <td>0</td>\n",
       "      <td>1</td>\n",
       "      <td>0</td>\n",
       "      <td>0</td>\n",
       "      <td>0</td>\n",
       "      <td>1</td>\n",
       "    </tr>\n",
       "    <tr>\n",
       "      <th>4</th>\n",
       "      <td>21474.0</td>\n",
       "      <td>0</td>\n",
       "      <td>6</td>\n",
       "      <td>16</td>\n",
       "      <td>24</td>\n",
       "      <td>11</td>\n",
       "      <td>0</td>\n",
       "      <td>34</td>\n",
       "      <td>2</td>\n",
       "      <td>3</td>\n",
       "      <td>...</td>\n",
       "      <td>0</td>\n",
       "      <td>0</td>\n",
       "      <td>0</td>\n",
       "      <td>0</td>\n",
       "      <td>1</td>\n",
       "      <td>0</td>\n",
       "      <td>0</td>\n",
       "      <td>0</td>\n",
       "      <td>0</td>\n",
       "      <td>1</td>\n",
       "    </tr>\n",
       "    <tr>\n",
       "      <th>5</th>\n",
       "      <td>71691.0</td>\n",
       "      <td>0</td>\n",
       "      <td>336</td>\n",
       "      <td>130</td>\n",
       "      <td>411</td>\n",
       "      <td>240</td>\n",
       "      <td>32</td>\n",
       "      <td>43</td>\n",
       "      <td>1</td>\n",
       "      <td>4</td>\n",
       "      <td>...</td>\n",
       "      <td>0</td>\n",
       "      <td>0</td>\n",
       "      <td>0</td>\n",
       "      <td>0</td>\n",
       "      <td>1</td>\n",
       "      <td>0</td>\n",
       "      <td>0</td>\n",
       "      <td>0</td>\n",
       "      <td>1</td>\n",
       "      <td>0</td>\n",
       "    </tr>\n",
       "  </tbody>\n",
       "</table>\n",
       "<p>5 rows × 40 columns</p>\n",
       "</div>"
      ],
      "text/plain": [
       "    income  recency  mnt_wines  mnt_fruits  mnt_meat_products  \\\n",
       "0  84835.0        0        189         104                379   \n",
       "1  57091.0        0        464           5                 64   \n",
       "2  67267.0        0        134          11                 59   \n",
       "4  21474.0        0          6          16                 24   \n",
       "5  71691.0        0        336         130                411   \n",
       "\n",
       "   mnt_fish_products  mnt_sweet_products  mnt_gold_products  \\\n",
       "0                111                 189                218   \n",
       "1                  7                   0                 37   \n",
       "2                 15                   2                 30   \n",
       "4                 11                   0                 34   \n",
       "5                240                  32                 43   \n",
       "\n",
       "   num_deals_purchases  num_web_purchases  ...  country_GER  country_IND  \\\n",
       "0                    1                  4  ...            0            0   \n",
       "1                    1                  7  ...            0            0   \n",
       "2                    1                  3  ...            0            0   \n",
       "4                    2                  3  ...            0            0   \n",
       "5                    1                  4  ...            0            0   \n",
       "\n",
       "   country_ME  country_SA  country_SP  country_US  education_level_Highschool  \\\n",
       "0           0           0           1           0                           0   \n",
       "1           0           0           0           0                           0   \n",
       "2           0           0           0           1                           0   \n",
       "4           0           0           1           0                           0   \n",
       "5           0           0           1           0                           0   \n",
       "\n",
       "   education_level_Master  education_level_PhD  education_level_Undergraduate  \n",
       "0                       0                    0                              1  \n",
       "1                       0                    0                              1  \n",
       "2                       0                    0                              1  \n",
       "4                       0                    0                              1  \n",
       "5                       0                    1                              0  \n",
       "\n",
       "[5 rows x 40 columns]"
      ]
     },
     "execution_count": 34,
     "metadata": {},
     "output_type": "execute_result"
    }
   ],
   "source": [
    "# view new df with appended dummy features\n",
    "df4.head()"
   ]
  },
  {
   "cell_type": "code",
   "execution_count": 35,
   "id": "8eafc98b-d4f7-4d9f-a68c-e79a7502723b",
   "metadata": {},
   "outputs": [
    {
     "name": "stdout",
     "output_type": "stream",
     "text": [
      "Without Dummy (1634, 27)\n",
      "With Dummy (1634, 40)\n"
     ]
    }
   ],
   "source": [
    "# compare df shapes to see how many additional columns/features were added after creating dummy variables\n",
    "print('Without Dummy', df3.shape)\n",
    "print('With Dummy', df4.shape)"
   ]
  },
  {
   "cell_type": "markdown",
   "id": "4cdbc18c-917b-4b5d-8264-93f639b83b29",
   "metadata": {},
   "source": [
    "Creating dummy variables created `13` additional columns"
   ]
  },
  {
   "cell_type": "markdown",
   "id": "6bd35078-5f7f-4031-aaaa-75acd996eefd",
   "metadata": {},
   "source": [
    "## Work For Milestone 3"
   ]
  },
  {
   "cell_type": "markdown",
   "id": "13cfe4bf-bf0f-417a-b0ec-54c42c374472",
   "metadata": {},
   "source": [
    "## Model Building And Evaluation"
   ]
  },
  {
   "cell_type": "markdown",
   "id": "d2f97953-b46a-4c32-bf4a-889fc194d0a5",
   "metadata": {},
   "source": [
    "#### Create Correlation Matrix To Identify Data Trends"
   ]
  },
  {
   "cell_type": "markdown",
   "id": "a607a3d1-2f20-4993-a89d-aedecadc9b8d",
   "metadata": {},
   "source": [
    "Before creating any models, I felt it would be helpful to first review the correlation matrix of the data in order if I could identify any strong relationships to point me in the right direction for model selection."
   ]
  },
  {
   "cell_type": "code",
   "execution_count": 36,
   "id": "397cf5c0-2f38-4886-9a09-196c2a3401a2",
   "metadata": {},
   "outputs": [
    {
     "data": {
      "image/png": "[encoded data removed]",
      "text/plain": [
       "<Figure size 1080x720 with 2 Axes>"
      ]
     },
     "metadata": {
      "needs_background": "light"
     },
     "output_type": "display_data"
    }
   ],
   "source": [
    "# display correlation matrix to id underlying data trends\n",
    "plt.figure(figsize=(15,10))\n",
    "\n",
    "# use df3 as to not involve dummy vars created in previous step\n",
    "corr_matx = df3.corr()\n",
    "\n",
    "# get upper triangle of correlation matrix\n",
    "upper_tri = np.triu(corr_matx)\n",
    "\n",
    "# display seaborn heatmap of corr matrix\n",
    "ax = sns.heatmap(corr_matx, annot=True, cmap='coolwarm', mask=upper_tri)\n",
    "\n",
    "# only display numeric relation if >0.4 or <-0.4\n",
    "## makes it easier to spot stronger relationships\n",
    "for t in ax.texts:\n",
    "    if abs(float(t.get_text())) >=0.4:\n",
    "        t.set_text(t.get_text())\n",
    "    else:\n",
    "        # provide empty string\n",
    "        t.set_text('')\n",
    "plt.show()"
   ]
  },
  {
   "cell_type": "markdown",
   "id": "287174d9-bd8c-4fd1-9f0d-0dee2032d03b",
   "metadata": {},
   "source": [
    "#### Observations:"
   ]
  },
  {
   "cell_type": "markdown",
   "id": "0c9d7269-ed25-448b-a488-90f9502eeb99",
   "metadata": {},
   "source": [
    "There were quite a few strong, positive relationships particularly involving total expenditures and total purchases. This makes sense intuitively, as people who have more total expenditures will have bought more of each type of product (e.g., fruits, wines, meats, etc.). I found it interesting that the type of product with the strongest relationship with total expenditures was wine! Perhaps that is becuase the majority of custeroms were from Spain, and wine very popular in that country.\n",
    "\n",
    "With regard to strong, negative relationships, I found it interesting that the number of web visits per month is negatively related to the customer's annual income (-.65). Perhaps this is due to people with lower incomes doing more \"window-shopping\" via the online market pages, while wealthier people can simply go to the markets without much concern of knowing the prices of the products beforehand.\n",
    "\n",
    "Overall, it looks like there are plenty of potentially interesting trends that I can try to measure using statistical testing and evaluation."
   ]
  },
  {
   "cell_type": "markdown",
   "id": "a076e9b6-b79b-46fc-b733-db29cba9a41e",
   "metadata": {},
   "source": [
    "#### Linear Regresion (Sklearn)"
   ]
  },
  {
   "cell_type": "code",
   "execution_count": 37,
   "id": "2c7975d9-37cb-4577-a507-0dfc475337be",
   "metadata": {},
   "outputs": [],
   "source": [
    "# load libraries for model training\n",
    "import statsmodels.api as sm\n",
    "from sklearn.model_selection import train_test_split\n",
    "from sklearn.metrics import mean_squared_error"
   ]
  },
  {
   "cell_type": "code",
   "execution_count": 38,
   "id": "86b46d4a-faea-4364-bd52-fdfea6c4e163",
   "metadata": {},
   "outputs": [],
   "source": [
    "# divide data into feature and target dataframes\n",
    "features = df4.drop(columns='income')\n",
    "target = df4['income']\n",
    "\n",
    "# split feature/target dfs into train/test splits\n",
    "x_train, x_test, y_train, y_test = train_test_split(features, target, test_size=0.2, random_state=0)"
   ]
  },
  {
   "cell_type": "code",
   "execution_count": 39,
   "id": "6970f47e-f28c-4a90-af7c-8bd1e1c10401",
   "metadata": {},
   "outputs": [],
   "source": [
    "# import linear regression func from sklearn\n",
    "from sklearn.linear_model import LinearRegression\n",
    "\n",
    "# create new linear model object\n",
    "lr_model = LinearRegression(normalize=True)\n",
    "\n",
    "# fit model to training data\n",
    "lr_model.fit(x_train, y_train)\n",
    "\n",
    "# make predictions using newly trained model\n",
    "y_preds = lr_model.predict(x_test)"
   ]
  },
  {
   "cell_type": "code",
   "execution_count": 40,
   "id": "f705ae8f-88b9-4384-9cc2-513608632906",
   "metadata": {},
   "outputs": [
    {
     "name": "stdout",
     "output_type": "stream",
     "text": [
      "MSE: 88624259.4\n",
      "RMSE: 9414.05\n",
      "Median Target Value: 51400.5\n",
      "Model Score: 0.79\n"
     ]
    }
   ],
   "source": [
    "# evaluate model using mean squre error\n",
    "mse = mean_squared_error(y_test, y_preds)\n",
    "rmse = np.sqrt(mean_squared_error(y_test, y_preds))\n",
    "score = lr_model.score(x_test, y_test)\n",
    "\n",
    "# display model metrics\n",
    "print('MSE: {}'.format(round(mse,2)))\n",
    "print('RMSE: {}'.format(round(rmse,2)))\n",
    "print('Median Target Value: {}'.format(target.median()))\n",
    "print('Model Score: {}'.format(round(score,2)))"
   ]
  },
  {
   "cell_type": "markdown",
   "id": "4d94c085-b193-41ae-92dc-73c086754394",
   "metadata": {},
   "source": [
    "#### Ordinary Least Squares (Statsmodels)"
   ]
  },
  {
   "cell_type": "markdown",
   "id": "e4415383-3fe3-49a5-95cd-60bf847a031a",
   "metadata": {},
   "source": [
    "I decided to train an OLS model just so that I could get used to the operations necessary and see how it compares with creating it via sklearn's LinearRegression object. I also like being able to display all the metrics via the summary() function."
   ]
  },
  {
   "cell_type": "code",
   "execution_count": 41,
   "id": "40b1a8aa-8156-4d39-b207-3b223b0bc8fc",
   "metadata": {},
   "outputs": [
    {
     "name": "stdout",
     "output_type": "stream",
     "text": [
      "                            OLS Regression Results                            \n",
      "==============================================================================\n",
      "Dep. Variable:                 income   R-squared:                       0.816\n",
      "Model:                            OLS   Adj. R-squared:                  0.794\n",
      "Method:                 Least Squares   F-statistic:                     38.06\n",
      "Date:                Thu, 03 Mar 2022   Prob (F-statistic):           1.00e-87\n",
      "Time:                        11:18:55   Log-Likelihood:                -3435.9\n",
      "No. Observations:                 327   AIC:                             6942.\n",
      "Df Residuals:                     292   BIC:                             7075.\n",
      "Df Model:                          34                                         \n",
      "Covariance Type:            nonrobust                                         \n",
      "=================================================================================================\n",
      "                                    coef    std err          t      P>|t|      [0.025      0.975]\n",
      "-------------------------------------------------------------------------------------------------\n",
      "const                          2.168e+04   2535.658      8.552      0.000    1.67e+04    2.67e+04\n",
      "recency                         -14.6896     19.587     -0.750      0.454     -53.240      23.861\n",
      "mnt_wines                         4.9167      4.471      1.100      0.272      -3.882      13.716\n",
      "mnt_fruits                       13.7398     15.949      0.862      0.390     -17.649      45.129\n",
      "mnt_meat_products                 3.6068      6.017      0.599      0.549      -8.235      15.448\n",
      "mnt_fish_products                11.6624     14.442      0.808      0.420     -16.761      40.086\n",
      "mnt_sweet_products               61.4235     19.828      3.098      0.002      22.399     100.448\n",
      "mnt_gold_products               -22.7872     12.205     -1.867      0.063     -46.807       1.233\n",
      "num_deals_purchases           -1123.2319    386.196     -2.908      0.004   -1883.312    -363.152\n",
      "num_web_purchases               569.4243    215.085      2.647      0.009     146.110     992.738\n",
      "num_catalog_purchases           177.9752    304.261      0.585      0.559    -420.848     776.799\n",
      "num_store_purchases             642.5986    278.626      2.306      0.022      94.229    1190.969\n",
      "NumWebVisitsMonth             -2360.9155    345.567     -6.832      0.000   -3041.033   -1680.798\n",
      "AcceptedCmp3                  -1775.2743   2211.033     -0.803      0.423   -6126.856    2576.307\n",
      "AcceptedCmp4                   3635.8961   3071.295      1.184      0.237   -2408.786    9680.578\n",
      "AcceptedCmp5                   4922.8062   2846.913      1.729      0.085    -680.265    1.05e+04\n",
      "AcceptedCmp1                  -1696.7094   2600.449     -0.652      0.515   -6814.708    3421.289\n",
      "AcceptedCmp2                  -1526.7795   6394.394     -0.239      0.811   -1.41e+04    1.11e+04\n",
      "response                       -221.5171   1871.206     -0.118      0.906   -3904.277    3461.243\n",
      "complain                       5848.0827   7192.221      0.813      0.417   -8307.081       2e+04\n",
      "children_at_home               3405.9023   1010.897      3.369      0.001    1416.334    5395.470\n",
      "total_expenditures               11.1385      3.580      3.112      0.002       4.093      18.184\n",
      "total_purchases                 266.7663    108.143      2.467      0.014      53.928     479.605\n",
      "age                             129.1871     50.087      2.579      0.010      30.609     227.765\n",
      "marital_status_Divorced        6593.5231   1491.790      4.420      0.000    3657.499    9529.548\n",
      "marital_status_Married         4408.8129   1069.398      4.123      0.000    2304.107    6513.518\n",
      "marital_status_Single          4928.7912   1120.598      4.398      0.000    2723.319    7134.264\n",
      "marital_status_Widow           5753.8174   2233.900      2.576      0.010    1357.231    1.02e+04\n",
      "country_AUS                     826.7088   2495.072      0.331      0.741   -4083.896    5737.313\n",
      "country_CA                     1867.4115   2097.588      0.890      0.374   -2260.897    5995.720\n",
      "country_GER                    1485.6242   2309.412      0.643      0.521   -3059.578    6030.827\n",
      "country_IND                   -1093.9944   2330.322     -0.469      0.639   -5680.352    3492.363\n",
      "country_ME                     6909.8097   8852.201      0.781      0.436   -1.05e+04    2.43e+04\n",
      "country_SA                     2926.7045   1792.237      1.633      0.104    -600.636    6454.045\n",
      "country_SP                     2310.0365   1505.266      1.535      0.126    -652.509    5272.582\n",
      "country_US                     6452.6439   2579.624      2.501      0.013    1375.631    1.15e+04\n",
      "education_level_Highschool    -5333.9841   2816.948     -1.894      0.059   -1.09e+04     210.111\n",
      "education_level_Master         9718.0049   1367.976      7.104      0.000    7025.662    1.24e+04\n",
      "education_level_PhD            9260.9908   1416.941      6.536      0.000    6472.279     1.2e+04\n",
      "education_level_Undergraduate  8039.9330   1226.980      6.553      0.000    5625.088    1.05e+04\n",
      "==============================================================================\n",
      "Omnibus:                      103.513   Durbin-Watson:                   2.213\n",
      "Prob(Omnibus):                  0.000   Jarque-Bera (JB):              761.784\n",
      "Skew:                          -1.094   Prob(JB):                    3.81e-166\n",
      "Kurtosis:                      10.150   Cond. No.                     1.65e+16\n",
      "==============================================================================\n",
      "\n",
      "Notes:\n",
      "[1] Standard Errors assume that the covariance matrix of the errors is correctly specified.\n",
      "[2] The smallest eigenvalue is 1.13e-24. This might indicate that there are\n",
      "strong multicollinearity problems or that the design matrix is singular.\n"
     ]
    }
   ],
   "source": [
    "# ordinary least squares\n",
    "x_test = sm.add_constant(x_test)\n",
    "\n",
    "# create new ols model object\n",
    "ols_model = sm.OLS(y_test, x_test).fit()\n",
    "preds = ols_model.predict(x_test)\n",
    "\n",
    "# display model summary\n",
    "print(ols_model.summary())"
   ]
  },
  {
   "cell_type": "markdown",
   "id": "272782f6-9e69-49f6-be23-95df0f0aea4a",
   "metadata": {},
   "source": [
    "#### Analyze OLS Model P-values"
   ]
  },
  {
   "cell_type": "code",
   "execution_count": 42,
   "id": "cdb2e67a-bca4-4a3d-89ca-3c8f9f92fd3c",
   "metadata": {},
   "outputs": [
    {
     "data": {
      "text/plain": [
       "Text(0.5, 1.0, 'OLS Model Sorted P-values')"
      ]
     },
     "execution_count": 42,
     "metadata": {},
     "output_type": "execute_result"
    },
    {
     "data": {
      "image/png": "[encoded data removed]",
      "text/plain": [
       "<Figure size 1080x720 with 1 Axes>"
      ]
     },
     "metadata": {
      "needs_background": "light"
     },
     "output_type": "display_data"
    }
   ],
   "source": [
    "## create plot to visualize p-values and determine best parameters\n",
    "plt.figure(figsize=(15,10))\n",
    "\n",
    "# create struct of p-values sorted in descending order\n",
    "p_values = pd.Series(ols_model.pvalues).sort_values(ascending=False)\n",
    "\n",
    "# plot sorted p-values to identify features with strongest predictive power\n",
    "plt.barh(y=p_values.index, width=p_values)\n",
    "\n",
    "# display vlines to designate vertical cut-off line\n",
    "plt.vlines(x=0.05, ymin=-0.5, ymax=40.25, colors='red')\n",
    "\n",
    "# give plot a title\n",
    "plt.title('OLS Model Sorted P-values')"
   ]
  },
  {
   "cell_type": "markdown",
   "id": "02a90e27-e4e6-4838-b2f1-112eadaee120",
   "metadata": {},
   "source": [
    "Using the vline as a cutoff, there are quite a few parameters that had low p-value (<0.05). There were also quite a few with rather high p-values, and should be removed from model training so that they do not negatively impact predictive power."
   ]
  },
  {
   "cell_type": "markdown",
   "id": "a0993633-7e60-4fbe-9080-63a881c1a8cd",
   "metadata": {},
   "source": [
    "#### Refined Linear Regression Model Creation With Strongest Parameters"
   ]
  },
  {
   "cell_type": "code",
   "execution_count": 51,
   "id": "185a40af-c337-4795-86a1-409c088d42e5",
   "metadata": {},
   "outputs": [],
   "source": [
    "# filter predictive features by p-values <.05\n",
    "# get index to use as column selector for dataframe\n",
    "predictive_features = p_values[p_values < .05].drop('const').index\n",
    "\n",
    "# create train test split on new refined selective features\n",
    "x_train, x_test, y_train, y_test = train_test_split(features[predictive_features],\n",
    "                                                   target,\n",
    "                                                   test_size=0.2,\n",
    "                                                   random_state=1)"
   ]
  },
  {
   "cell_type": "code",
   "execution_count": 44,
   "id": "f205281b-3dc6-440f-b2ce-31022457835f",
   "metadata": {},
   "outputs": [],
   "source": [
    "# recreate new linear model object\n",
    "lr_model = LinearRegression(normalize=True)\n",
    "\n",
    "# fit model to training data\n",
    "lr_model.fit(x_train, y_train)\n",
    "\n",
    "# make predictions using newly trained model\n",
    "y_preds = lr_model.predict(x_test)"
   ]
  },
  {
   "cell_type": "code",
   "execution_count": 45,
   "id": "b9ed7ae8-24a6-4e98-9292-052b325ec1bb",
   "metadata": {},
   "outputs": [
    {
     "name": "stdout",
     "output_type": "stream",
     "text": [
      "MSE: 98187963.67\n",
      "RMSE: 9908.98\n",
      "Median Target Value: 51400.5\n",
      "Model Score: 0.8\n"
     ]
    }
   ],
   "source": [
    "# evaluate model using mean squre error\n",
    "mse = mean_squared_error(y_test, y_preds)\n",
    "rmse = np.sqrt(mean_squared_error(y_test, y_preds))\n",
    "score = lr_model.score(x_test, y_test)\n",
    "\n",
    "# display model metrics\n",
    "print('MSE: {}'.format(round(mse,2)))\n",
    "print('RMSE: {}'.format(round(rmse,2)))\n",
    "print('Median Target Value: {}'.format(target.median()))\n",
    "print('Model Score: {}'.format(round(score,2)))"
   ]
  },
  {
   "cell_type": "markdown",
   "id": "c768c07a-9425-4616-8073-4fc8286e5846",
   "metadata": {},
   "source": [
    "Observations: After passing the \"best\" parameters, there did not appear to be any significant change to overall score (<.01 change)."
   ]
  },
  {
   "cell_type": "markdown",
   "id": "a90f2353-d7c5-4e64-9daa-ca57aee56c32",
   "metadata": {},
   "source": [
    "#### Predicting Campaign Success (Response Target)"
   ]
  },
  {
   "cell_type": "markdown",
   "id": "788de27f-296f-4c79-929c-6606f85ddfc5",
   "metadata": {},
   "source": [
    "I decided to go ahead and try a different model with a different target. The `response` column measured whether the customer had accepted the most recent campaign offer, so I thought this would be an interesting classification target to base a logistic regression model around. Before creating the logistic model, I had to re-iterate through the steps of breaking up my data into features and target dataframes. I also had to redo the train/test split."
   ]
  },
  {
   "cell_type": "code",
   "execution_count": 46,
   "id": "ec8c8af2-84fe-478f-866d-00f1fc534e6a",
   "metadata": {},
   "outputs": [],
   "source": [
    "# load logistic regression model library\n",
    "from sklearn.linear_model import LogisticRegression\n",
    "from sklearn.model_selection import cross_val_score\n",
    "from sklearn.metrics import classification_report, confusion_matrix"
   ]
  },
  {
   "cell_type": "code",
   "execution_count": 47,
   "id": "9fba041e-641c-4bb8-ab27-594742833c43",
   "metadata": {},
   "outputs": [
    {
     "name": "stdout",
     "output_type": "stream",
     "text": [
      "x_train rows:\t1307\n",
      "y_train rows:\t1307\n",
      "x_test rows:\t327\n",
      "y_test rows:\t327\n"
     ]
    }
   ],
   "source": [
    "# recreate train/test data for new target column response\n",
    "features = df4.drop(columns='response')\n",
    "target = df4['response']\n",
    "\n",
    "# split into train test sets\n",
    "x_train, x_test, y_train, y_test = train_test_split(features, target, test_size=.2, random_state=1)\n",
    "\n",
    "# display shapes of train/test splits to ensure same dimensions\n",
    "print('x_train rows:\\t{}'.format(x_train.shape[0]))\n",
    "print('y_train rows:\\t{}'.format(y_train.shape[0]))\n",
    "print('x_test rows:\\t{}'.format(x_test.shape[0]))\n",
    "print('y_test rows:\\t{}'.format(y_test.shape[0]))"
   ]
  },
  {
   "cell_type": "markdown",
   "id": "e7f090d8-0c67-4b4e-a313-92b6cb98ddf0",
   "metadata": {},
   "source": [
    "#### Training the Logistic Model"
   ]
  },
  {
   "cell_type": "code",
   "execution_count": 48,
   "id": "d279513e-dc5e-4502-8d71-634bfdfb9bdd",
   "metadata": {},
   "outputs": [
    {
     "name": "stdout",
     "output_type": "stream",
     "text": [
      "Logistic Model Score: 0.839\n"
     ]
    }
   ],
   "source": [
    "# create new logistic model object\n",
    "log_model = LogisticRegression(random_state=1)\n",
    "\n",
    "# fit training data to linear model object\n",
    "log_model.fit(x_train, y_train)\n",
    "\n",
    "# display logistic training score\n",
    "log_model_score = round(log_model.score(x_train, y_train),3)\n",
    "print('Logistic Model Score:', log_model_score)"
   ]
  },
  {
   "cell_type": "markdown",
   "id": "61e96854-565c-4d1e-93e7-cc69c4de27fd",
   "metadata": {},
   "source": [
    "#### Logisitc Model Confusion Matrix"
   ]
  },
  {
   "cell_type": "code",
   "execution_count": 49,
   "id": "fbf09fbf-595f-4b4e-afe2-4375ec31195d",
   "metadata": {},
   "outputs": [
    {
     "data": {
      "image/png": "[encoded data removed]",
      "text/plain": [
       "<Figure size 576x576 with 1 Axes>"
      ]
     },
     "metadata": {
      "needs_background": "light"
     },
     "output_type": "display_data"
    }
   ],
   "source": [
    "# display confusion matrix of logistic model results\n",
    "cm = confusion_matrix(y_test, log_model.predict(x_test))\n",
    "\n",
    "fig, ax = plt.subplots(figsize=(8,8))\n",
    "ax.imshow(cm)\n",
    "ax.grid(False)\n",
    "ax.xaxis.set(ticks=(0,1), ticklabels=('Predicted 0s', 'Predicted 1s'))\n",
    "ax.yaxis.set(ticks=(0,1), ticklabels=('Actual 0s', 'Predicted 0s'))\n",
    "for i in range(2):\n",
    "    for j in range(2):\n",
    "        ax.text(j, i, cm[i,j], ha='center', va='center', color='red')\n",
    "plt.show()"
   ]
  },
  {
   "cell_type": "markdown",
   "id": "eaa166c0-d4ab-47a1-855c-603eccead81a",
   "metadata": {},
   "source": [
    "#### Logistic Model Report"
   ]
  },
  {
   "cell_type": "code",
   "execution_count": 50,
   "id": "207e49c7-ee28-4e4e-80ff-17897415c6fb",
   "metadata": {},
   "outputs": [
    {
     "name": "stdout",
     "output_type": "stream",
     "text": [
      "              precision    recall  f1-score   support\n",
      "\n",
      "           0       0.86      0.96      0.91       276\n",
      "           1       0.39      0.14      0.20        51\n",
      "\n",
      "    accuracy                           0.83       327\n",
      "   macro avg       0.62      0.55      0.55       327\n",
      "weighted avg       0.78      0.83      0.80       327\n",
      "\n"
     ]
    }
   ],
   "source": [
    "# display classification report for logistic model\n",
    "print(classification_report(y_test, log_model.predict(x_test)))"
   ]
  },
  {
   "cell_type": "markdown",
   "id": "332f5e68-ce83-489c-8450-722b852865f2",
   "metadata": {},
   "source": [
    "Observations: The logistic model actually performed quite well in predicted the training labels, with an overall precision score for 0 values (i.e., customer did NOT accept advertisement campaign offer). However, since there were only a total of 11 customers who accepted the offer (i.e., repsonse value) I do not belive there was enough data points to train the model to predict whether a customer would accept the campaign offer."
   ]
  }
 ],
 "metadata": {
  "kernelspec": {
   "display_name": "Python 3",
   "language": "python",
   "name": "python3"
  },
  "language_info": {
   "codemirror_mode": {
    "name": "ipython",
    "version": 3
   },
   "file_extension": ".py",
   "mimetype": "text/x-python",
   "name": "python",
   "nbconvert_exporter": "python",
   "pygments_lexer": "ipython3",
   "version": "3.8.8"
  }
 },
 "nbformat": 4,
 "nbformat_minor": 5
}
