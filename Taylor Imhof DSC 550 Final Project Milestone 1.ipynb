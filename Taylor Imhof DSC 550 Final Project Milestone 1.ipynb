{
 "cells": [
  {
   "cell_type": "markdown",
   "id": "0f51ca4b-c034-4650-8aa8-3a1d8e9381a9",
   "metadata": {},
   "source": [
    "# Taylor Imhof\n",
    "# Bellevue University | DSC 550\n",
    "# Final Project Milestone #1\n",
    "# 2/02/2022"
   ]
  },
  {
   "cell_type": "markdown",
   "id": "e897d164-80ab-4490-a0f8-2bed4f0e4dda",
   "metadata": {},
   "source": [
    "## Load Required Libraries"
   ]
  },
  {
   "cell_type": "code",
   "execution_count": 2,
   "id": "55f3c5c6-a0d2-49e2-8cac-c4f3a0c4b833",
   "metadata": {},
   "outputs": [],
   "source": [
    "# import required libraries\n",
    "import pandas as pd\n",
    "import numpy as np\n",
    "import matplotlib.pyplot as plt\n",
    "import seaborn as sns"
   ]
  },
  {
   "cell_type": "markdown",
   "id": "00bce5a2-271e-49ab-aa85-84cc8373c474",
   "metadata": {},
   "source": [
    "## Read CSV Data Into Pandas Dataframe"
   ]
  },
  {
   "cell_type": "code",
   "execution_count": 3,
   "id": "40f624e2-8e58-4829-ae86-3b522b691aee",
   "metadata": {},
   "outputs": [
    {
     "data": {
      "text/html": [
       "<div>\n",
       "<style scoped>\n",
       "    .dataframe tbody tr th:only-of-type {\n",
       "        vertical-align: middle;\n",
       "    }\n",
       "\n",
       "    .dataframe tbody tr th {\n",
       "        vertical-align: top;\n",
       "    }\n",
       "\n",
       "    .dataframe thead th {\n",
       "        text-align: right;\n",
       "    }\n",
       "</style>\n",
       "<table border=\"1\" class=\"dataframe\">\n",
       "  <thead>\n",
       "    <tr style=\"text-align: right;\">\n",
       "      <th></th>\n",
       "      <th>ID</th>\n",
       "      <th>Year_Birth</th>\n",
       "      <th>Education</th>\n",
       "      <th>Marital_Status</th>\n",
       "      <th>Income</th>\n",
       "      <th>Kidhome</th>\n",
       "      <th>Teenhome</th>\n",
       "      <th>Dt_Customer</th>\n",
       "      <th>Recency</th>\n",
       "      <th>MntWines</th>\n",
       "      <th>...</th>\n",
       "      <th>NumStorePurchases</th>\n",
       "      <th>NumWebVisitsMonth</th>\n",
       "      <th>AcceptedCmp3</th>\n",
       "      <th>AcceptedCmp4</th>\n",
       "      <th>AcceptedCmp5</th>\n",
       "      <th>AcceptedCmp1</th>\n",
       "      <th>AcceptedCmp2</th>\n",
       "      <th>Response</th>\n",
       "      <th>Complain</th>\n",
       "      <th>Country</th>\n",
       "    </tr>\n",
       "  </thead>\n",
       "  <tbody>\n",
       "    <tr>\n",
       "      <th>0</th>\n",
       "      <td>1826</td>\n",
       "      <td>1970</td>\n",
       "      <td>Graduation</td>\n",
       "      <td>Divorced</td>\n",
       "      <td>$84,835.00</td>\n",
       "      <td>0</td>\n",
       "      <td>0</td>\n",
       "      <td>6/16/14</td>\n",
       "      <td>0</td>\n",
       "      <td>189</td>\n",
       "      <td>...</td>\n",
       "      <td>6</td>\n",
       "      <td>1</td>\n",
       "      <td>0</td>\n",
       "      <td>0</td>\n",
       "      <td>0</td>\n",
       "      <td>0</td>\n",
       "      <td>0</td>\n",
       "      <td>1</td>\n",
       "      <td>0</td>\n",
       "      <td>SP</td>\n",
       "    </tr>\n",
       "    <tr>\n",
       "      <th>1</th>\n",
       "      <td>1</td>\n",
       "      <td>1961</td>\n",
       "      <td>Graduation</td>\n",
       "      <td>Single</td>\n",
       "      <td>$57,091.00</td>\n",
       "      <td>0</td>\n",
       "      <td>0</td>\n",
       "      <td>6/15/14</td>\n",
       "      <td>0</td>\n",
       "      <td>464</td>\n",
       "      <td>...</td>\n",
       "      <td>7</td>\n",
       "      <td>5</td>\n",
       "      <td>0</td>\n",
       "      <td>0</td>\n",
       "      <td>0</td>\n",
       "      <td>0</td>\n",
       "      <td>1</td>\n",
       "      <td>1</td>\n",
       "      <td>0</td>\n",
       "      <td>CA</td>\n",
       "    </tr>\n",
       "    <tr>\n",
       "      <th>2</th>\n",
       "      <td>10476</td>\n",
       "      <td>1958</td>\n",
       "      <td>Graduation</td>\n",
       "      <td>Married</td>\n",
       "      <td>$67,267.00</td>\n",
       "      <td>0</td>\n",
       "      <td>1</td>\n",
       "      <td>5/13/14</td>\n",
       "      <td>0</td>\n",
       "      <td>134</td>\n",
       "      <td>...</td>\n",
       "      <td>5</td>\n",
       "      <td>2</td>\n",
       "      <td>0</td>\n",
       "      <td>0</td>\n",
       "      <td>0</td>\n",
       "      <td>0</td>\n",
       "      <td>0</td>\n",
       "      <td>0</td>\n",
       "      <td>0</td>\n",
       "      <td>US</td>\n",
       "    </tr>\n",
       "    <tr>\n",
       "      <th>3</th>\n",
       "      <td>1386</td>\n",
       "      <td>1967</td>\n",
       "      <td>Graduation</td>\n",
       "      <td>Together</td>\n",
       "      <td>$32,474.00</td>\n",
       "      <td>1</td>\n",
       "      <td>1</td>\n",
       "      <td>5/11/14</td>\n",
       "      <td>0</td>\n",
       "      <td>10</td>\n",
       "      <td>...</td>\n",
       "      <td>2</td>\n",
       "      <td>7</td>\n",
       "      <td>0</td>\n",
       "      <td>0</td>\n",
       "      <td>0</td>\n",
       "      <td>0</td>\n",
       "      <td>0</td>\n",
       "      <td>0</td>\n",
       "      <td>0</td>\n",
       "      <td>AUS</td>\n",
       "    </tr>\n",
       "    <tr>\n",
       "      <th>4</th>\n",
       "      <td>5371</td>\n",
       "      <td>1989</td>\n",
       "      <td>Graduation</td>\n",
       "      <td>Single</td>\n",
       "      <td>$21,474.00</td>\n",
       "      <td>1</td>\n",
       "      <td>0</td>\n",
       "      <td>4/8/14</td>\n",
       "      <td>0</td>\n",
       "      <td>6</td>\n",
       "      <td>...</td>\n",
       "      <td>2</td>\n",
       "      <td>7</td>\n",
       "      <td>1</td>\n",
       "      <td>0</td>\n",
       "      <td>0</td>\n",
       "      <td>0</td>\n",
       "      <td>0</td>\n",
       "      <td>1</td>\n",
       "      <td>0</td>\n",
       "      <td>SP</td>\n",
       "    </tr>\n",
       "  </tbody>\n",
       "</table>\n",
       "<p>5 rows × 28 columns</p>\n",
       "</div>"
      ],
      "text/plain": [
       "      ID  Year_Birth   Education Marital_Status      Income   Kidhome  \\\n",
       "0   1826        1970  Graduation       Divorced  $84,835.00         0   \n",
       "1      1        1961  Graduation         Single  $57,091.00         0   \n",
       "2  10476        1958  Graduation        Married  $67,267.00         0   \n",
       "3   1386        1967  Graduation       Together  $32,474.00         1   \n",
       "4   5371        1989  Graduation         Single  $21,474.00         1   \n",
       "\n",
       "   Teenhome Dt_Customer  Recency  MntWines  ...  NumStorePurchases  \\\n",
       "0         0     6/16/14        0       189  ...                  6   \n",
       "1         0     6/15/14        0       464  ...                  7   \n",
       "2         1     5/13/14        0       134  ...                  5   \n",
       "3         1     5/11/14        0        10  ...                  2   \n",
       "4         0      4/8/14        0         6  ...                  2   \n",
       "\n",
       "   NumWebVisitsMonth  AcceptedCmp3  AcceptedCmp4  AcceptedCmp5  AcceptedCmp1  \\\n",
       "0                  1             0             0             0             0   \n",
       "1                  5             0             0             0             0   \n",
       "2                  2             0             0             0             0   \n",
       "3                  7             0             0             0             0   \n",
       "4                  7             1             0             0             0   \n",
       "\n",
       "   AcceptedCmp2  Response  Complain  Country  \n",
       "0             0         1         0       SP  \n",
       "1             1         1         0       CA  \n",
       "2             0         0         0       US  \n",
       "3             0         0         0      AUS  \n",
       "4             0         1         0       SP  \n",
       "\n",
       "[5 rows x 28 columns]"
      ]
     },
     "execution_count": 3,
     "metadata": {},
     "output_type": "execute_result"
    }
   ],
   "source": [
    "# read in data\n",
    "data = pd.read_csv('data/marketing_data.csv')\n",
    "data.head()"
   ]
  },
  {
   "cell_type": "code",
   "execution_count": 5,
   "id": "6fa48773-6f9c-4401-99f2-64f3fb1e41b1",
   "metadata": {},
   "outputs": [
    {
     "data": {
      "text/plain": [
       "(2240, 28)"
      ]
     },
     "execution_count": 5,
     "metadata": {},
     "output_type": "execute_result"
    }
   ],
   "source": [
    "# check dimensions of data set\n",
    "data.shape"
   ]
  },
  {
   "cell_type": "code",
   "execution_count": 7,
   "id": "8c2108e4-73bb-4df9-b2ad-e8804e1fee18",
   "metadata": {},
   "outputs": [
    {
     "name": "stdout",
     "output_type": "stream",
     "text": [
      "<class 'pandas.core.frame.DataFrame'>\n",
      "RangeIndex: 2240 entries, 0 to 2239\n",
      "Data columns (total 28 columns):\n",
      " #   Column               Non-Null Count  Dtype \n",
      "---  ------               --------------  ----- \n",
      " 0   ID                   2240 non-null   int64 \n",
      " 1   Year_Birth           2240 non-null   int64 \n",
      " 2   Education            2240 non-null   object\n",
      " 3   Marital_Status       2240 non-null   object\n",
      " 4    Income              2216 non-null   object\n",
      " 5   Kidhome              2240 non-null   int64 \n",
      " 6   Teenhome             2240 non-null   int64 \n",
      " 7   Dt_Customer          2240 non-null   object\n",
      " 8   Recency              2240 non-null   int64 \n",
      " 9   MntWines             2240 non-null   int64 \n",
      " 10  MntFruits            2240 non-null   int64 \n",
      " 11  MntMeatProducts      2240 non-null   int64 \n",
      " 12  MntFishProducts      2240 non-null   int64 \n",
      " 13  MntSweetProducts     2240 non-null   int64 \n",
      " 14  MntGoldProds         2240 non-null   int64 \n",
      " 15  NumDealsPurchases    2240 non-null   int64 \n",
      " 16  NumWebPurchases      2240 non-null   int64 \n",
      " 17  NumCatalogPurchases  2240 non-null   int64 \n",
      " 18  NumStorePurchases    2240 non-null   int64 \n",
      " 19  NumWebVisitsMonth    2240 non-null   int64 \n",
      " 20  AcceptedCmp3         2240 non-null   int64 \n",
      " 21  AcceptedCmp4         2240 non-null   int64 \n",
      " 22  AcceptedCmp5         2240 non-null   int64 \n",
      " 23  AcceptedCmp1         2240 non-null   int64 \n",
      " 24  AcceptedCmp2         2240 non-null   int64 \n",
      " 25  Response             2240 non-null   int64 \n",
      " 26  Complain             2240 non-null   int64 \n",
      " 27  Country              2240 non-null   object\n",
      "dtypes: int64(23), object(5)\n",
      "memory usage: 490.1+ KB\n"
     ]
    }
   ],
   "source": [
    "# display data types\n",
    "data.info()"
   ]
  },
  {
   "cell_type": "markdown",
   "id": "3ddc9a2b-ee19-4395-ad1f-7172b6f337df",
   "metadata": {},
   "source": [
    "This dataset contains 2240 records with 28 columns in total. After reviewing the Dtype column produced from info(), I noticed that income was encoded as a string and had some additional whitespace in the column name."
   ]
  },
  {
   "cell_type": "markdown",
   "id": "250f0bd4-1ab7-4c75-a415-46517dd86ac6",
   "metadata": {},
   "source": [
    "## Cleaning Income Column"
   ]
  },
  {
   "cell_type": "code",
   "execution_count": 27,
   "id": "c5334b67-e739-43ab-b81d-0a224b0c9d8b",
   "metadata": {},
   "outputs": [
    {
     "data": {
      "text/plain": [
       "Index(['ID', 'Year_Birth', 'Education', 'Marital_Status', 'Income', 'Kidhome',\n",
       "       'Teenhome', 'Dt_Customer', 'Recency', 'MntWines', 'MntFruits',\n",
       "       'MntMeatProducts', 'MntFishProducts', 'MntSweetProducts',\n",
       "       'MntGoldProds', 'NumDealsPurchases', 'NumWebPurchases',\n",
       "       'NumCatalogPurchases', 'NumStorePurchases', 'NumWebVisitsMonth',\n",
       "       'AcceptedCmp3', 'AcceptedCmp4', 'AcceptedCmp5', 'AcceptedCmp1',\n",
       "       'AcceptedCmp2', 'Response', 'Complain', 'Country'],\n",
       "      dtype='object')"
      ]
     },
     "execution_count": 27,
     "metadata": {},
     "output_type": "execute_result"
    }
   ],
   "source": [
    "# rename income column to remove extra whitespace\n",
    "data.rename({\" Income \": \"Income\"}, axis=1, inplace=True)\n",
    "\n",
    "# to check that changes were put into effect\n",
    "data.columns "
   ]
  },
  {
   "cell_type": "code",
   "execution_count": 29,
   "id": "9c3cfb0e-1de9-4eaf-8e07-e536a26d5e71",
   "metadata": {},
   "outputs": [],
   "source": [
    "## utility function to clean string formatted currency to float by removing commas and dollar signs\n",
    "def clean_currency(dollars):\n",
    "    \"\"\"\n",
    "    args: string containing dollar sign and comma characters\n",
    "    returns: \n",
    "    \"\"\"\n",
    "    if isinstance(dollars, str):\n",
    "        return(dollars.replace('$', '').replace(',', ''))\n",
    "    return(dollars)"
   ]
  },
  {
   "cell_type": "code",
   "execution_count": 32,
   "id": "26607ba3-8837-4d92-8c18-abd8f3352b9f",
   "metadata": {},
   "outputs": [
    {
     "data": {
      "text/plain": [
       "dtype('float64')"
      ]
     },
     "execution_count": 32,
     "metadata": {},
     "output_type": "execute_result"
    }
   ],
   "source": [
    "# create copy\n",
    "clean_income = data.copy()\n",
    "\n",
    "# apply clean currency utilty function to income column\n",
    "clean_income['Income'] = clean_income['Income'].apply(clean_currency).astype(float)\n",
    "\n",
    "# check dtype to ensure changes were put into effect\n",
    "clean_income['Income'].dtype"
   ]
  },
  {
   "cell_type": "markdown",
   "id": "aa0b5c51-5389-4021-b79a-1f829817fbce",
   "metadata": {},
   "source": [
    "## Graphical Analysis Of `Income` Column"
   ]
  },
  {
   "cell_type": "code",
   "execution_count": 63,
   "id": "b933b185-c019-4545-ade6-a06a66d3c896",
   "metadata": {},
   "outputs": [
    {
     "data": {
      "image/png": "[encoded data removed]",
      "text/plain": [
       "<Figure size 432x288 with 1 Axes>"
      ]
     },
     "metadata": {
      "needs_background": "light"
     },
     "output_type": "display_data"
    }
   ],
   "source": [
    "# display histogram of income distribution\n",
    "sns.histplot(data=clean_income['Income'])\n",
    "plt.title('Histogram of Income (w/outliers)')\n",
    "plt.show()"
   ]
  },
  {
   "cell_type": "markdown",
   "id": "37a4e253-7a92-4a77-a5f1-764ea184e5a1",
   "metadata": {},
   "source": [
    "There looks like there are a few outliers in the income column. In order to get a better look at potential outliers, I decided to graph a boxplot of the income column."
   ]
  },
  {
   "cell_type": "code",
   "execution_count": 64,
   "id": "5f21d5a2-95f2-441e-8c06-6e28047dcf34",
   "metadata": {},
   "outputs": [
    {
     "data": {
      "text/plain": [
       "Text(0.5, 1.0, 'Boxplot of Income Column')"
      ]
     },
     "execution_count": 64,
     "metadata": {},
     "output_type": "execute_result"
    },
    {
     "data": {
      "image/png": "[encoded data removed]",
      "text/plain": [
       "<Figure size 432x288 with 1 Axes>"
      ]
     },
     "metadata": {
      "needs_background": "light"
     },
     "output_type": "display_data"
    }
   ],
   "source": [
    "# create boxplot of income column\n",
    "sns.boxplot(data=clean_income['Income'], color='purple')\n",
    "plt.title('Boxplot of Income Column')"
   ]
  },
  {
   "cell_type": "markdown",
   "id": "2f920cfe-e2d7-427c-bb20-2b92758098c3",
   "metadata": {},
   "source": [
    "It looks like there is one very anomalous outlier at > 600000, so I decided to filter down the rows to customers with income below 200000."
   ]
  },
  {
   "cell_type": "code",
   "execution_count": 51,
   "id": "405e9575-a8c6-4dac-860c-8d70b43d7e4a",
   "metadata": {},
   "outputs": [
    {
     "data": {
      "image/png": "[encoded data removed]",
      "text/plain": [
       "<Figure size 432x288 with 1 Axes>"
      ]
     },
     "metadata": {
      "needs_background": "light"
     },
     "output_type": "display_data"
    }
   ],
   "source": [
    "# create copy\n",
    "filter_income = clean_income.copy()\n",
    "\n",
    "# filter income to values below 200000\n",
    "filter_income = filter_income[filter_income['Income'] < 200000]\n",
    "\n",
    "# display new boxplot to see if more filtering might be necessary\n",
    "sns.boxplot(data=filter_income['Income'], color='gold')\n",
    "plt.title('Boxplot of Income Column')\n",
    "plt.show()"
   ]
  },
  {
   "cell_type": "markdown",
   "id": "eb9640f7-2b0f-443d-bb57-ecce8fba341f",
   "metadata": {},
   "source": [
    "After reviewing this boxplot it looks like while there are still a few outliers, I felt that they were close enough to the \"norm\" to be acceptable observation values."
   ]
  },
  {
   "cell_type": "code",
   "execution_count": 50,
   "id": "63cb7647-d204-4d6c-ad21-aeab8861073b",
   "metadata": {},
   "outputs": [
    {
     "data": {
      "image/png": "[encoded data removed]",
      "text/plain": [
       "<Figure size 432x288 with 1 Axes>"
      ]
     },
     "metadata": {
      "needs_background": "light"
     },
     "output_type": "display_data"
    }
   ],
   "source": [
    "# create histogram of cleaned and filtered income column\n",
    "sns.histplot(data=filter_income['Income'], kde=True)\n",
    "plt.title('Histogram of Yearly Income ($)')\n",
    "plt.show()"
   ]
  },
  {
   "cell_type": "markdown",
   "id": "f16dbf8c-8518-4dc4-b6c4-813adfcfbd30",
   "metadata": {},
   "source": [
    "## Graphical Analysis Of `Year_Birth` Column"
   ]
  },
  {
   "cell_type": "markdown",
   "id": "5e676f4b-fb78-482f-b1a5-706dfd0d1448",
   "metadata": {},
   "source": [
    "Another column of data that I wanted to get a better feel for how it was distributed was the column noting each customer's birth year."
   ]
  },
  {
   "cell_type": "code",
   "execution_count": 43,
   "id": "b8878590-fb6e-438a-af69-8aa072718759",
   "metadata": {},
   "outputs": [
    {
     "data": {
      "text/plain": [
       "(2215, 28)"
      ]
     },
     "execution_count": 43,
     "metadata": {},
     "output_type": "execute_result"
    }
   ],
   "source": [
    "filter_income.shape"
   ]
  },
  {
   "cell_type": "code",
   "execution_count": 48,
   "id": "4b878ef2-ec09-4c4a-a209-cdb762909d20",
   "metadata": {},
   "outputs": [
    {
     "data": {
      "image/png": "[encoded data removed]",
      "text/plain": [
       "<Figure size 432x288 with 1 Axes>"
      ]
     },
     "metadata": {
      "needs_background": "light"
     },
     "output_type": "display_data"
    }
   ],
   "source": [
    "# identify potential outliers with boxplot\n",
    "sns.boxplot(data=filter_income['Year_Birth'], color='red')\n",
    "plt.title('Histogram of Year_Birth Column')\n",
    "plt.show()"
   ]
  },
  {
   "cell_type": "markdown",
   "id": "e26bbc10-20a6-406f-b0fd-1d8d462e0147",
   "metadata": {},
   "source": [
    "It looks like there are a few outliers, so I decided to filter the data for customer's who were born after 1920."
   ]
  },
  {
   "cell_type": "code",
   "execution_count": 44,
   "id": "fc457f8f-f372-445b-abf2-9adc114ccb99",
   "metadata": {},
   "outputs": [
    {
     "data": {
      "text/plain": [
       "(2212, 28)"
      ]
     },
     "execution_count": 44,
     "metadata": {},
     "output_type": "execute_result"
    }
   ],
   "source": [
    "# create copy\n",
    "filter_birth = filter_income.copy()\n",
    "\n",
    "# filter customers born after 1920\n",
    "filter_birth = filter_birth[filter_birth['Year_Birth'] > 1920]\n",
    "filter_birth.shape"
   ]
  },
  {
   "cell_type": "markdown",
   "id": "1ad8da9b-1c17-4418-8757-57df78b9e2b1",
   "metadata": {},
   "source": [
    "After filtering by birth year, only three observations were lost."
   ]
  },
  {
   "cell_type": "code",
   "execution_count": 54,
   "id": "d65a833e-91e7-46fd-8e30-37af889b1888",
   "metadata": {},
   "outputs": [
    {
     "data": {
      "text/plain": [
       "Text(0.5, 1.0, 'Histogram of Year_Birth Distriubtion')"
      ]
     },
     "execution_count": 54,
     "metadata": {},
     "output_type": "execute_result"
    },
    {
     "data": {
      "image/png": "[encoded data removed]",
      "text/plain": [
       "<Figure size 360x360 with 1 Axes>"
      ]
     },
     "metadata": {
      "needs_background": "light"
     },
     "output_type": "display_data"
    }
   ],
   "source": [
    "# plot histogram of birth year column\n",
    "sns.displot(data=filter_birth, x='Year_Birth')\n",
    "plt.title('Histogram of Year_Birth Distriubtion')"
   ]
  },
  {
   "cell_type": "code",
   "execution_count": 46,
   "id": "311d386b-9cae-4d4a-b30c-279d1dee6846",
   "metadata": {},
   "outputs": [
    {
     "data": {
      "image/png": "[encoded data removed]",
      "text/plain": [
       "<Figure size 452x360 with 1 Axes>"
      ]
     },
     "metadata": {
      "needs_background": "light"
     },
     "output_type": "display_data"
    }
   ],
   "source": [
    "# displot filtered by level of education \n",
    "sns.displot(data=filter_birth, x='Year_Birth', hue='Education', element='step')\n",
    "plt.title('Histogram of Year_Birth By Education Level')\n",
    "plt.show()"
   ]
  },
  {
   "cell_type": "markdown",
   "id": "6d11ec98-e652-4e94-aeec-c013d639cc91",
   "metadata": {},
   "source": [
    "I decided to add an additional `hue` parameter so that I could see how the distributions of the customer's birth year varied by their respective education level.\n",
    "\n",
    "Observations: The bulk of the customer's contained in this dataset were born in the mid-70's. It looks like the ages of the customers (today) range from about 28 - 80 years old. When I added the `hue` parameter to filter by education level, I could see that most of the customer's have graduated from college, while a decent amount of the older folks (born before 1970) have received their Ph.D. I felt that was pretty interesting!"
   ]
  },
  {
   "cell_type": "markdown",
   "id": "e5d5378e-1df5-4656-86ba-5ae1456a28f9",
   "metadata": {},
   "source": [
    "## Graphical Analysis of `Education` Column"
   ]
  },
  {
   "cell_type": "markdown",
   "id": "bd299c2c-c5f8-4c5c-810e-c86cda71633b",
   "metadata": {},
   "source": [
    "While I was able to make some general conclusions about how many customers belonged to each of the different levels of education, I felt that reviewing a bar chart of the education level column would provide more evident insights."
   ]
  },
  {
   "cell_type": "code",
   "execution_count": 61,
   "id": "3c947c57-f564-47c1-b75f-afe650379de6",
   "metadata": {},
   "outputs": [
    {
     "data": {
      "image/png": "[encoded data removed]",
      "text/plain": [
       "<Figure size 432x288 with 1 Axes>"
      ]
     },
     "metadata": {
      "needs_background": "light"
     },
     "output_type": "display_data"
    }
   ],
   "source": [
    "# create bar chart of education column\n",
    "sns.countplot(x=filter_birth['Education'], palette='bright')\n",
    "plt.title('Barchart Counting Each Education Membership')\n",
    "plt.show()"
   ]
  },
  {
   "cell_type": "markdown",
   "id": "8622906c-42a2-45cf-916f-cc56a59862eb",
   "metadata": {},
   "source": [
    "Observations: Again, it would appear that the bulk of the customers in the dataset have received their college degrees. I found it interesting that the count of Ph.D. holders was greater than those with Master's degrees. I wasn't exactly sure what '2n cycle education' meant, but after looking into it a bit, it would seem to mean that the customer is currently pursuing their Master's (perhaps this is more popular in different countries?)"
   ]
  },
  {
   "cell_type": "markdown",
   "id": "21d2eb24-044c-40f1-b43c-4a9f9fe0513c",
   "metadata": {},
   "source": [
    "## Graphical Analysis of Country Column"
   ]
  },
  {
   "cell_type": "markdown",
   "id": "fa58bf03-a72b-4a03-b319-b564d929b562",
   "metadata": {},
   "source": [
    "The last column that I wanted to get a feel for before diving into the data transformation stage was the country column. I was curious to see the different countries that were included in this dataset, as well as how many customers belonged to each country. I felt the best approach to seeing this visually would be accomplished by a piechart."
   ]
  },
  {
   "cell_type": "code",
   "execution_count": 67,
   "id": "7b356035-0a1f-4e98-8280-1537a1c53db5",
   "metadata": {},
   "outputs": [
    {
     "data": {
      "image/png": "[encoded data removed]",
      "text/plain": [
       "<Figure size 432x288 with 1 Axes>"
      ]
     },
     "metadata": {},
     "output_type": "display_data"
    }
   ],
   "source": [
    "# display pie chart of country value membership\n",
    "data.groupby('Country').size().plot(kind='pie', autopct='%1.1f%%')\n",
    "plt.title('Piechart of Country Column')\n",
    "plt.show()"
   ]
  },
  {
   "cell_type": "markdown",
   "id": "93ab88e9-5501-43ac-b902-c56c8fba5f12",
   "metadata": {},
   "source": [
    "After reviewing this piechart, there are quite a few countries included in this dataset. Nearly half of the customers are from Spain (I am guessing that the professor that created this dataset is Spanish), while the next largest country participating in the dataset is Saudi Arabia, followed by Canada, Australia, and the US. This visualization was quite useful, as it helped me identify potential new columns to create/combine or drop altogether. For example, the percentage of customers from ME (I believe this is Montenegro?) is only 0.1% so customers from there could be dropped without much impact. Also, I might be able to get away with combining Canada and the US into a North America country as we are so similar in culter and location."
   ]
  }
 ],
 "metadata": {
  "kernelspec": {
   "display_name": "Python 3",
   "language": "python",
   "name": "python3"
  },
  "language_info": {
   "codemirror_mode": {
    "name": "ipython",
    "version": 3
   },
   "file_extension": ".py",
   "mimetype": "text/x-python",
   "name": "python",
   "nbconvert_exporter": "python",
   "pygments_lexer": "ipython3",
   "version": "3.8.8"
  }
 },
 "nbformat": 4,
 "nbformat_minor": 5
}
